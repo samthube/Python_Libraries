{
 "cells": [
  {
   "cell_type": "markdown",
   "metadata": {},
   "source": [
    "'''\n",
    "@Author: Samadhan Thube\n",
    "\n",
    "@Date: 2024-08-31\n",
    "\n",
    "@last modified by : Samadhan Thube\n",
    "\n",
    "@last modified date : 2024-08-31\n",
    " \n",
    "@Title : Pandas Library Problems\n",
    "\n",
    "'''"
   ]
  },
  {
   "cell_type": "code",
   "execution_count": 1,
   "metadata": {},
   "outputs": [],
   "source": [
    "import numpy as np\n",
    "import pandas as pd"
   ]
  },
  {
   "cell_type": "markdown",
   "metadata": {},
   "source": [
    "1. Write a Python program to create and display a one-dimensional array-like object\n",
    "containing an array of data using Pandas module."
   ]
  },
  {
   "cell_type": "code",
   "execution_count": 2,
   "metadata": {},
   "outputs": [
    {
     "name": "stdout",
     "output_type": "stream",
     "text": [
      "One-dimensional array-like object (Pandas Series):\n",
      "0    10\n",
      "1    20\n",
      "2    30\n",
      "3    40\n",
      "4    50\n",
      "dtype: int64\n"
     ]
    }
   ],
   "source": [
    "def pandas_series(data):\n",
    "    \"\"\"\n",
    "    Description:\n",
    "        Creates a one-dimensional array-like object using a Pandas Series and displays it.\n",
    "\n",
    "    Parameter:\n",
    "        data (list): A list of data to be stored in the Pandas Series.\n",
    "\n",
    "    Return:\n",
    "        None\n",
    "    \"\"\"\n",
    "    series = pd.Series(data)\n",
    "\n",
    "    \n",
    "    return series\n",
    "\n",
    "def main():\n",
    "    \n",
    "    data = [10, 20, 30, 40, 50]\n",
    "    \n",
    "    print(\"One-dimensional array-like object (Pandas Series):\") \n",
    "    print(pandas_series(data))\n",
    "\n",
    "if __name__ == \"__main__\":\n",
    "    main()\n"
   ]
  },
  {
   "cell_type": "markdown",
   "metadata": {},
   "source": [
    "2. Write a Python program to convert a Panda module Series to Python list and it's type."
   ]
  },
  {
   "cell_type": "code",
   "execution_count": 3,
   "metadata": {},
   "outputs": [
    {
     "name": "stdout",
     "output_type": "stream",
     "text": [
      "Converted Python list: [10, 20, 30, 40, 50]\n",
      "Type of the converted list: <class 'list'>\n"
     ]
    }
   ],
   "source": [
    "def series_to_list(series):\n",
    "    \"\"\"\n",
    "    Description:\n",
    "        Converts a Pandas Series to a Python list and returns it along with its type.\n",
    "\n",
    "    Parameter:\n",
    "        series (pd.Series): A Pandas Series object to be converted.\n",
    "\n",
    "    Return:\n",
    "        list: A Python list converted from the Pandas Series.\n",
    "        type: The type of the converted list.\n",
    "    \"\"\"\n",
    "   \n",
    "    python_list = series.tolist()\n",
    "   \n",
    "    return python_list\n",
    "\n",
    "def main():\n",
    "    \n",
    "    data = [10, 20, 30, 40, 50]\n",
    "    series = pd.Series(data)\n",
    "    \n",
    "    python_list= series_to_list(series)\n",
    "    \n",
    "    print(\"Converted Python list:\", python_list)\n",
    "    print(\"Type of the converted list:\",  type(python_list))\n",
    "\n",
    "if __name__ == \"__main__\":\n",
    "    main()\n"
   ]
  },
  {
   "cell_type": "markdown",
   "metadata": {},
   "source": [
    "3. Write a Python program to add, subtract, multiple and divide two Pandas Series."
   ]
  },
  {
   "cell_type": "code",
   "execution_count": 4,
   "metadata": {},
   "outputs": [
    {
     "name": "stdout",
     "output_type": "stream",
     "text": [
      "Addition of two Series:\n",
      " 0     3\n",
      "1     7\n",
      "2    11\n",
      "3    15\n",
      "4    19\n",
      "dtype: int64\n",
      "\n",
      "Subtraction of two Series:\n",
      " 0    1\n",
      "1    1\n",
      "2    1\n",
      "3    1\n",
      "4    1\n",
      "dtype: int64\n",
      "\n",
      "Multiplication of two Series:\n",
      " 0     2\n",
      "1    12\n",
      "2    30\n",
      "3    56\n",
      "4    90\n",
      "dtype: int64\n",
      "\n",
      "Division of two Series:\n",
      " 0    2.000000\n",
      "1    1.333333\n",
      "2    1.200000\n",
      "3    1.142857\n",
      "4    1.111111\n",
      "dtype: float64\n"
     ]
    }
   ],
   "source": [
    "def arithmetic_operations(series1, series2):\n",
    "    \"\"\"\n",
    "    Description:\n",
    "        Performs addition, subtraction, multiplication, and division on two Pandas Series.\n",
    "\n",
    "    Parameter:\n",
    "        series1 (pd.Series): The first Pandas Series.\n",
    "        series2 (pd.Series): The second Pandas Series.\n",
    "\n",
    "    Return:\n",
    "        dict: A dictionary containing the results of addition, subtraction, multiplication, and division.\n",
    "    \"\"\"\n",
    "    \n",
    "    addition = series1 + series2\n",
    "    subtraction = series1 - series2\n",
    "    multiplication = series1 * series2\n",
    "    division = series1 / series2\n",
    "\n",
    "    return addition,subtraction,multiplication,division\n",
    "\n",
    "def main():\n",
    "    \n",
    "    data1 = [2, 4, 6, 8, 10]\n",
    "    data2 = [1, 3, 5, 7, 9]\n",
    "    \n",
    "    series1 = pd.Series(data1)\n",
    "    series2 = pd.Series(data2)\n",
    "    \n",
    "    \n",
    "    addition,subtraction,multiplication,division = arithmetic_operations(series1, series2)\n",
    "    \n",
    "    print(\"Addition of two Series:\\n\", addition)\n",
    "    print(\"\\nSubtraction of two Series:\\n\", subtraction)\n",
    "    print(\"\\nMultiplication of two Series:\\n\", multiplication)\n",
    "    print(\"\\nDivision of two Series:\\n\", division)\n",
    "\n",
    "if __name__ == \"__main__\":\n",
    "    main()\n"
   ]
  },
  {
   "cell_type": "markdown",
   "metadata": {},
   "source": [
    "4. Write a Python program to get the powers of an array values element-wise."
   ]
  },
  {
   "cell_type": "code",
   "execution_count": 5,
   "metadata": {},
   "outputs": [
    {
     "name": "stdout",
     "output_type": "stream",
     "text": [
      "Original array:\n",
      "[0 1 2 3 4 5 6]\n",
      "\n",
      "First array elements raised to powers from second array, element-wise:\n",
      "[  0   1   8  27  64 125 216]\n"
     ]
    }
   ],
   "source": [
    "import pandas as pd\n",
    "\n",
    "def elementwise_power(base_series, exponent_series):\n",
    "    \"\"\"\n",
    "    Description:\n",
    "        Computes the element-wise power of two pandas Series.\n",
    "\n",
    "    Parameter:\n",
    "        base_series (pd.Series): A pandas Series containing the base values.\n",
    "        exponent_series (pd.Series): A pandas Series containing the exponent values.\n",
    "\n",
    "    Return:\n",
    "        pd.Series: A pandas Series containing the result of raising each base element to the power of the corresponding exponent.\n",
    "    \"\"\"\n",
    "    return base_series ** exponent_series\n",
    "\n",
    "def main():\n",
    "    \n",
    "    base_series = pd.Series([0, 1, 2, 3, 4, 5, 6])\n",
    "\n",
    "    exponent_series = pd.Series([1, 1, 3, 3, 3, 3, 3])\n",
    "\n",
    "    result_series = elementwise_power(base_series, exponent_series)\n",
    "\n",
    "    print(\"Original array:\")\n",
    "    print(base_series.values)\n",
    "\n",
    "    print(\"\\nFirst array elements raised to powers from second array, element-wise:\")\n",
    "    print(result_series.values)\n",
    "\n",
    "if __name__ == \"__main__\":\n",
    "    main()\n"
   ]
  },
  {
   "cell_type": "markdown",
   "metadata": {},
   "source": [
    "5. Write a Python program to create and display a DataFrame from a specified dictionary\n",
    "data which has the index labels."
   ]
  },
  {
   "cell_type": "code",
   "execution_count": 6,
   "metadata": {},
   "outputs": [
    {
     "name": "stdout",
     "output_type": "stream",
     "text": [
      "DataFrame:\n",
      "        name  score  attempts qualify\n",
      "a  Anastasia   12.5         1     yes\n",
      "b       Dima    9.0         3      no\n",
      "c  Katherine   16.5         2     yes\n",
      "d      James    NaN         3      no\n",
      "e      Emily    9.0         2      no\n",
      "f    Michael   20.0         3     yes\n",
      "g    Matthew   14.5         1     yes\n",
      "h      Laura    NaN         1      no\n",
      "i      Kevin    8.0         2      no\n",
      "j      Jonas   19.0         1     yes\n"
     ]
    }
   ],
   "source": [
    "def create_dataframe(exam_data, labels):\n",
    "    \"\"\"\n",
    "    Description:\n",
    "        Creates a DataFrame from the provided dictionary data and index labels.\n",
    "\n",
    "    Parameter:\n",
    "        exam_data (dict): A dictionary containing the data for the DataFrame.\n",
    "        labels (list): A list of index labels for the DataFrame.\n",
    "\n",
    "    Return:\n",
    "        pd.DataFrame: A pandas DataFrame with the specified data and index labels.\n",
    "    \"\"\"\n",
    "    \n",
    "    return pd.DataFrame(exam_data, index=labels)\n",
    "\n",
    "def main():\n",
    "    exam_data = {\n",
    "        'name': ['Anastasia', 'Dima', 'Katherine', 'James', 'Emily', 'Michael',\n",
    "                 'Matthew', 'Laura', 'Kevin', 'Jonas'],\n",
    "        'score': [12.5, 9, 16.5, np.nan, 9, 20, 14.5, np.nan, 8, 19],\n",
    "        'attempts': [1, 3, 2, 3, 2, 3, 1, 1, 2, 1],\n",
    "        'qualify': ['yes', 'no', 'yes', 'no', 'no', 'yes', 'yes', 'no', 'no', 'yes']\n",
    "    }\n",
    "\n",
    "    labels = ['a', 'b', 'c', 'd', 'e', 'f', 'g', 'h', 'i', 'j']\n",
    "\n",
    "    dataframe = create_dataframe(exam_data, labels)\n",
    "\n",
    "    # Display the DataFrame\n",
    "    print(\"DataFrame:\")\n",
    "    print(dataframe)\n",
    "\n",
    "if __name__ == \"__main__\":\n",
    "    main()\n"
   ]
  },
  {
   "cell_type": "markdown",
   "metadata": {},
   "source": [
    "6. Write a Python program to display a summary of the basic information about a\n",
    "specified Data Frame and its data."
   ]
  },
  {
   "cell_type": "code",
   "execution_count": 7,
   "metadata": {},
   "outputs": [
    {
     "name": "stdout",
     "output_type": "stream",
     "text": [
      "Basic Information about the DataFrame:\n",
      "<class 'pandas.core.frame.DataFrame'>\n",
      "Index: 10 entries, a to j\n",
      "Data columns (total 4 columns):\n",
      " #   Column    Non-Null Count  Dtype  \n",
      "---  ------    --------------  -----  \n",
      " 0   name      10 non-null     object \n",
      " 1   score     8 non-null      float64\n",
      " 2   attempts  10 non-null     int64  \n",
      " 3   qualify   10 non-null     object \n",
      "dtypes: float64(1), int64(1), object(2)\n",
      "memory usage: 400.0+ bytes\n",
      "None\n",
      "\n",
      "Statistical Summary of the DataFrame:\n",
      "             name      score   attempts qualify\n",
      "count          10   8.000000  10.000000      10\n",
      "unique         10        NaN        NaN       2\n",
      "top     Anastasia        NaN        NaN     yes\n",
      "freq            1        NaN        NaN       5\n",
      "mean          NaN  13.562500   1.900000     NaN\n",
      "std           NaN   4.693746   0.875595     NaN\n",
      "min           NaN   8.000000   1.000000     NaN\n",
      "25%           NaN   9.000000   1.000000     NaN\n",
      "50%           NaN  13.500000   2.000000     NaN\n",
      "75%           NaN  17.125000   2.750000     NaN\n",
      "max           NaN  20.000000   3.000000     NaN\n",
      "\n",
      "First few rows of the DataFrame:\n",
      "        name  score  attempts qualify\n",
      "a  Anastasia   12.5         1     yes\n",
      "b       Dima    9.0         3      no\n",
      "c  Katherine   16.5         2     yes\n",
      "d      James    NaN         3      no\n",
      "e      Emily    9.0         2      no\n"
     ]
    }
   ],
   "source": [
    "def display_summary(dataframe):\n",
    "    \"\"\"\n",
    "    Description:\n",
    "        Displays a summary of the basic information about the DataFrame and its data.\n",
    "\n",
    "    Parameter:\n",
    "        df (pd.DataFrame): The DataFrame to summarize.\n",
    "\n",
    "    Return:\n",
    "        None\n",
    "    \"\"\"\n",
    "    print(\"Basic Information about the DataFrame:\")\n",
    "    print(dataframe.info())\n",
    "    print(\"\\nStatistical Summary of the DataFrame:\")\n",
    "    print(dataframe.describe(include='all'))\n",
    "    print(\"\\nFirst few rows of the DataFrame:\")\n",
    "    print(dataframe.head())\n",
    "\n",
    "def main():\n",
    " \n",
    "    exam_data = {\n",
    "        'name': ['Anastasia', 'Dima', 'Katherine', 'James', 'Emily', 'Michael', 'Matthew',\n",
    "                 'Laura', 'Kevin', 'Jonas'],\n",
    "        'score': [12.5, 9, 16.5, np.nan, 9, 20, 14.5, np.nan, 8, 19],\n",
    "        'attempts': [1, 3, 2, 3, 2, 3, 1, 1, 2, 1],\n",
    "        'qualify': ['yes', 'no', 'yes', 'no', 'no', 'yes', 'yes', 'no', 'no', 'yes']\n",
    "    }\n",
    "\n",
    "    labels = ['a', 'b', 'c', 'd', 'e', 'f', 'g', 'h', 'i', 'j']\n",
    "\n",
    "    dataframe = pd.DataFrame(exam_data, index=labels)\n",
    "    display_summary(dataframe)\n",
    "\n",
    "if __name__ == \"__main__\":\n",
    "    main()\n"
   ]
  },
  {
   "cell_type": "markdown",
   "metadata": {},
   "source": [
    "7. Write a Python program to get the first 3 rows of a given DataFrame."
   ]
  },
  {
   "cell_type": "code",
   "execution_count": 8,
   "metadata": {},
   "outputs": [
    {
     "name": "stdout",
     "output_type": "stream",
     "text": [
      "First 3 rows of the DataFrame:\n",
      "        name  score  attempts qualify\n",
      "a  Anastasia   12.5         1     yes\n",
      "b       Dima    9.0         3      no\n",
      "c  Katherine   16.5         2     yes\n"
     ]
    }
   ],
   "source": [
    "def main():\n",
    "    exam_data = {\n",
    "        'name': ['Anastasia', 'Dima', 'Katherine', 'James', 'Emily', 'Michael',\n",
    "                 'Matthew', 'Laura', 'Kevin', 'Jonas'],\n",
    "        'score': [12.5, 9, 16.5, np.nan, 9, 20, 14.5, np.nan, 8, 19],\n",
    "        'attempts': [1, 3, 2, 3, 2, 3, 1, 1, 2, 1],\n",
    "        'qualify': ['yes', 'no', 'yes', 'no', 'no', 'yes', 'yes', 'no', 'no', 'yes']\n",
    "    }\n",
    "\n",
    "    labels = ['a', 'b', 'c', 'd', 'e', 'f', 'g', 'h', 'i', 'j']\n",
    "\n",
    "    df = pd.DataFrame(exam_data, index=labels)\n",
    "\n",
    "    print(\"First 3 rows of the DataFrame:\")\n",
    "    print(df.head(3))\n",
    "\n",
    "if __name__ == \"__main__\":\n",
    "    main()\n"
   ]
  },
  {
   "cell_type": "markdown",
   "metadata": {},
   "source": [
    "8. Write a Python program to select the 'name' and 'score' columns from the following\n",
    "DataFrame."
   ]
  },
  {
   "cell_type": "code",
   "execution_count": 9,
   "metadata": {},
   "outputs": [
    {
     "name": "stdout",
     "output_type": "stream",
     "text": [
      "DataFrame with 'name' and 'score' columns:\n",
      "        name  score\n",
      "a  Anastasia   12.5\n",
      "b       Dima    9.0\n",
      "c  Katherine   16.5\n",
      "d      James    NaN\n",
      "e      Emily    9.0\n",
      "f    Michael   20.0\n",
      "g    Matthew   14.5\n",
      "h      Laura    NaN\n",
      "i      Kevin    8.0\n",
      "j      Jonas   19.0\n"
     ]
    }
   ],
   "source": [
    "def select_columns(dataframe):\n",
    "    \"\"\"\n",
    "    Description:\n",
    "        Selects specified columns from the DataFrame.\n",
    "\n",
    "    Parameter:\n",
    "        df (pd.DataFrame): The DataFrame from which to select columns.\n",
    "\n",
    "    Return:\n",
    "        pd.DataFrame: A DataFrame with only the selected columns.\n",
    "    \"\"\"\n",
    "    return dataframe[['name','score']]\n",
    "\n",
    "def main():\n",
    "    exam_data = {\n",
    "        'name': ['Anastasia', 'Dima', 'Katherine', 'James', 'Emily', 'Michael', 'Matthew',\n",
    "                 'Laura', 'Kevin', 'Jonas'],\n",
    "        'score': [12.5, 9, 16.5, np.nan, 9, 20, 14.5, np.nan, 8, 19],\n",
    "        'attempts': [1, 3, 2, 3, 2, 3, 1, 1, 2, 1],\n",
    "        'qualify': ['yes', 'no', 'yes', 'no', 'no', 'yes', 'yes', 'no', 'no', 'yes']\n",
    "    }\n",
    "\n",
    "    labels = ['a', 'b', 'c', 'd', 'e', 'f', 'g', 'h', 'i', 'j']\n",
    "    dataframe = pd.DataFrame(exam_data, index=labels)\n",
    "\n",
    "    print(\"DataFrame with 'name' and 'score' columns:\")\n",
    "    print(select_columns(dataframe))\n",
    "\n",
    "if __name__ == \"__main__\":\n",
    "    main()\n"
   ]
  },
  {
   "cell_type": "markdown",
   "metadata": {},
   "source": [
    "9. Write a Python program to select the specified columns and rows from a given data\n",
    "frame."
   ]
  },
  {
   "cell_type": "code",
   "execution_count": 10,
   "metadata": {},
   "outputs": [
    {
     "name": "stdout",
     "output_type": "stream",
     "text": [
      "Selected columns and rows:\n",
      "      name  score\n",
      "b     Dima    9.0\n",
      "d    James    NaN\n",
      "f  Michael   20.0\n",
      "g  Matthew   14.5\n"
     ]
    }
   ],
   "source": [
    "def columns_and_rows(dataframe, columns, rows):\n",
    "    \"\"\"\n",
    "    Description:\n",
    "        Selects specified columns and rows from the DataFrame.\n",
    "\n",
    "    Parameter:\n",
    "        dataframe (pd.DataFrame): The DataFrame from which to select columns and rows.\n",
    "        columns (list): A list of column names to select.\n",
    "        rows (list): A list of row indices to select.\n",
    "\n",
    "    Return:\n",
    "        pd.DataFrame: A DataFrame with only the selected columns and rows.\n",
    "    \"\"\"\n",
    "    return dataframe.loc[rows, columns]\n",
    "\n",
    "def main():\n",
    "    \n",
    "    exam_data = {\n",
    "        'name': ['Anastasia', 'Dima', 'Katherine', 'James', 'Emily', 'Michael', 'Matthew',\n",
    "                 'Laura', 'Kevin', 'Jonas'],\n",
    "        'score': [12.5, 9, 16.5, np.nan, 9, 20, 14.5, np.nan, 8, 19],\n",
    "        'attempts': [1, 3, 2, 3, 2, 3, 1, 1, 2, 1],\n",
    "        'qualify': ['yes', 'no', 'yes', 'no', 'no', 'yes', 'yes', 'no', 'no', 'yes']\n",
    "    }\n",
    "    labels = ['a', 'b', 'c', 'd', 'e', 'f', 'g', 'h', 'i', 'j']\n",
    "\n",
    "    dataframe = pd.DataFrame(exam_data, index=labels)\n",
    "\n",
    "    columns = ['name', 'score']\n",
    "    rows = ['b', 'd', 'f', 'g']  \n",
    "\n",
    "    selected_data = columns_and_rows(dataframe, columns, rows)\n",
    "\n",
    "    print(\"Selected columns and rows:\")\n",
    "    print(selected_data)\n",
    "\n",
    "if __name__ == \"__main__\":\n",
    "    main()\n"
   ]
  },
  {
   "cell_type": "markdown",
   "metadata": {},
   "source": [
    "10. Write a Python program to select the rows where the number of attempts in the\n",
    "examination is greater than 2."
   ]
  },
  {
   "cell_type": "code",
   "execution_count": 11,
   "metadata": {},
   "outputs": [
    {
     "name": "stdout",
     "output_type": "stream",
     "text": [
      "Rows where the number of attempts is greater than 2:\n",
      "      name  score  attempts qualify\n",
      "b     Dima    9.0         3      no\n",
      "d    James    NaN         3      no\n",
      "f  Michael   20.0         3     yes\n"
     ]
    }
   ],
   "source": [
    "def filter_attempts(dataframe):\n",
    "    \"\"\"\n",
    "    Description:\n",
    "        Selects rows from the DataFrame where the number of attempts is greater than a specified value.\n",
    "\n",
    "    Parameter:\n",
    "        dataframe (pd.DataFrame): The DataFrame to filter.\n",
    "        min_attempts (int): The minimum number of attempts to filter by.\n",
    "\n",
    "    Return:\n",
    "        pd.DataFrame: A DataFrame with rows where the number of attempts is greater than the specified value.\n",
    "    \"\"\"\n",
    "    return dataframe[dataframe['attempts'] > 2]\n",
    "\n",
    "def main():\n",
    "   \n",
    "    exam_data = {\n",
    "        'name': ['Anastasia', 'Dima', 'Katherine', 'James', 'Emily', 'Michael', 'Matthew',\n",
    "                 'Laura', 'Kevin', 'Jonas'],\n",
    "        'score': [12.5, 9, 16.5, np.nan, 9, 20, 14.5, np.nan, 8, 19],\n",
    "        'attempts': [1, 3, 2, 3, 2, 3, 1, 1, 2, 1],\n",
    "        'qualify': ['yes', 'no', 'yes', 'no', 'no', 'yes', 'yes', 'no', 'no', 'yes']\n",
    "    }\n",
    "\n",
    "    labels = ['a', 'b', 'c', 'd', 'e', 'f', 'g', 'h', 'i', 'j']\n",
    "    dataframe = pd.DataFrame(exam_data, index=labels)\n",
    "\n",
    "    filtered_data = filter_attempts(dataframe)\n",
    "\n",
    "    print(\"Rows where the number of attempts is greater than 2:\")\n",
    "    print(filtered_data)\n",
    "\n",
    "if __name__ == \"__main__\":\n",
    "    main()\n"
   ]
  },
  {
   "cell_type": "markdown",
   "metadata": {},
   "source": [
    "11. Write a Python program to count the number of rows and columns of a DataFrame."
   ]
  },
  {
   "cell_type": "code",
   "execution_count": 12,
   "metadata": {},
   "outputs": [
    {
     "name": "stdout",
     "output_type": "stream",
     "text": [
      "Number of rows: 10\n",
      "Number of columns: 4\n"
     ]
    }
   ],
   "source": [
    "def count_rows_and_columns(dataframe):\n",
    "    \"\"\"\n",
    "    Description:\n",
    "        Counts the number of rows and columns in the DataFrame.\n",
    "\n",
    "    Parameter:\n",
    "        dataframe (pd.DataFrame): The DataFrame to count rows and columns.\n",
    "\n",
    "    Return:\n",
    "        tuple: A tuple containing the number of rows and columns.\n",
    "    \"\"\"\n",
    "    return dataframe.shape\n",
    "\n",
    "def main():\n",
    " \n",
    "    exam_data = {\n",
    "        'name': ['Anastasia', 'Dima', 'Katherine', 'James', 'Emily', 'Michael', 'Matthew',\n",
    "                 'Laura', 'Kevin', 'Jonas'],\n",
    "        'score': [12.5, 9, 16.5, np.nan, 9, 20, 14.5, np.nan, 8, 19],\n",
    "        'attempts': [1, 3, 2, 3, 2, 3, 1, 1, 2, 1],\n",
    "        'qualify': ['yes', 'no', 'yes', 'no', 'no', 'yes', 'yes', 'no', 'no', 'yes']\n",
    "    }\n",
    "\n",
    "    labels = ['a', 'b', 'c', 'd', 'e', 'f', 'g', 'h', 'i', 'j']\n",
    "\n",
    "    dataframe = pd.DataFrame(exam_data, index=labels)\n",
    "\n",
    "    num_rows, num_columns = count_rows_and_columns(dataframe)\n",
    "\n",
    "    print(f\"Number of rows: {num_rows}\")\n",
    "    print(f\"Number of columns: {num_columns}\")\n",
    "\n",
    "if __name__ == \"__main__\":\n",
    "    main()\n"
   ]
  },
  {
   "cell_type": "markdown",
   "metadata": {},
   "source": [
    "12. Write a Python program to select the rows where the score is missing, i.e. is NaN."
   ]
  },
  {
   "cell_type": "code",
   "execution_count": 13,
   "metadata": {},
   "outputs": [
    {
     "name": "stdout",
     "output_type": "stream",
     "text": [
      "Rows where the score is missing (NaN):\n",
      "    name  score  attempts qualify\n",
      "d  James    NaN         3      no\n",
      "h  Laura    NaN         1      no\n"
     ]
    }
   ],
   "source": [
    "def missing_scores(dataframe):\n",
    "    \"\"\"\n",
    "    Description:\n",
    "        Selects rows from the DataFrame where the score is missing (i.e., NaN).\n",
    "\n",
    "    Parameter:\n",
    "        dataframe (pd.DataFrame): The DataFrame to filter.\n",
    "\n",
    "    Return:\n",
    "        pd.DataFrame: A DataFrame with rows where the score is NaN.\n",
    "    \"\"\"\n",
    "    return dataframe[dataframe['score'].isna()]\n",
    "\n",
    "def main():\n",
    " \n",
    "    exam_data = {\n",
    "        'name': ['Anastasia', 'Dima', 'Katherine', 'James', 'Emily', 'Michael', 'Matthew',\n",
    "                 'Laura', 'Kevin', 'Jonas'],\n",
    "        'score': [12.5, 9, 16.5, np.nan, 9, 20, 14.5, np.nan, 8, 19],\n",
    "        'attempts': [1, 3, 2, 3, 2, 3, 1, 1, 2, 1],\n",
    "        'qualify': ['yes', 'no', 'yes', 'no', 'no', 'yes', 'yes', 'no', 'no', 'yes']\n",
    "    }\n",
    "\n",
    "    labels = ['a', 'b', 'c', 'd', 'e', 'f', 'g', 'h', 'i', 'j']\n",
    "\n",
    "    dataframe = pd.DataFrame(exam_data, index=labels)\n",
    "\n",
    "    print(\"Rows where the score is missing (NaN):\")\n",
    "    print(missing_scores(dataframe))\n",
    "\n",
    "if __name__ == \"__main__\":\n",
    "    main()\n"
   ]
  },
  {
   "cell_type": "markdown",
   "metadata": {},
   "source": [
    "13. Write a Python program to select the rows where number of attempts in the\n",
    "examination is less than 2 and score greater than 15."
   ]
  },
  {
   "cell_type": "code",
   "execution_count": 14,
   "metadata": {},
   "outputs": [
    {
     "name": "stdout",
     "output_type": "stream",
     "text": [
      "Rows where number of attempts is less than 2 and score is greater than 15:\n",
      "    name  score  attempts qualify\n",
      "j  Jonas   19.0         1     yes\n"
     ]
    }
   ],
   "source": [
    "def filter_attempts_and_score(dataframe):\n",
    "    \"\"\"\n",
    "    Description:\n",
    "        Selects rows from the DataFrame where the number of attempts is less than a specified value\n",
    "        and the score is greater than a specified value.\n",
    "\n",
    "    Parameter:\n",
    "        dataframe (pd.DataFrame): The DataFrame to filter.\n",
    "\n",
    "    Return:\n",
    "        pd.DataFrame: A DataFrame with rows matching the specified conditions.\n",
    "    \"\"\"\n",
    "    return dataframe[(dataframe['attempts'] < 2) & (dataframe['score'] > 15)]\n",
    "\n",
    "def main():\n",
    "\n",
    "    exam_data = {\n",
    "        'name': ['Anastasia', 'Dima', 'Katherine', 'James', 'Emily', 'Michael', 'Matthew',\n",
    "                 'Laura', 'Kevin', 'Jonas'],\n",
    "        'score': [12.5, 9, 16.5, np.nan, 9, 20, 14.5, np.nan, 8, 19],\n",
    "        'attempts': [1, 3, 2, 3, 2, 3, 1, 1, 2, 1],\n",
    "        'qualify': ['yes', 'no', 'yes', 'no', 'no', 'yes', 'yes', 'no', 'no', 'yes']\n",
    "    }\n",
    "\n",
    "    labels = ['a', 'b', 'c', 'd', 'e', 'f', 'g', 'h', 'i', 'j']\n",
    "\n",
    "    dataframe = pd.DataFrame(exam_data, index=labels)\n",
    "\n",
    "    filtered_data = filter_attempts_and_score(dataframe)\n",
    "\n",
    "    print(\"Rows where number of attempts is less than 2 and score is greater than 15:\")\n",
    "    print(filtered_data)\n",
    "\n",
    "if __name__ == \"__main__\":\n",
    "    main()\n"
   ]
  },
  {
   "cell_type": "markdown",
   "metadata": {},
   "source": [
    "14. Write a Python program to change the score in row 'd' to 11.5."
   ]
  },
  {
   "cell_type": "code",
   "execution_count": 15,
   "metadata": {},
   "outputs": [
    {
     "name": "stdout",
     "output_type": "stream",
     "text": [
      "DataFrame after updating the score in row 'd':\n",
      "        name  score  attempts qualify\n",
      "a  Anastasia   12.5         1     yes\n",
      "b       Dima    9.0         3      no\n",
      "c  Katherine   16.5         2     yes\n",
      "d      James   11.5         3      no\n",
      "e      Emily    9.0         2      no\n",
      "f    Michael   20.0         3     yes\n",
      "g    Matthew   14.5         1     yes\n",
      "h      Laura    NaN         1      no\n",
      "i      Kevin    8.0         2      no\n",
      "j      Jonas   19.0         1     yes\n"
     ]
    }
   ],
   "source": [
    "def update_score(dataframe):\n",
    "    \"\"\"\n",
    "    Description:\n",
    "        Updates the score for a specified row in the DataFrame.\n",
    "\n",
    "    Parameter:\n",
    "        dataframe (pd.DataFrame): The DataFrame to update.\n",
    "\n",
    "    Return:\n",
    "        pd.DataFrame: The updated DataFrame.\n",
    "    \"\"\"\n",
    "    dataframe.loc['d', 'score'] = 11.5\n",
    "    return dataframe\n",
    "\n",
    "def main():\n",
    "    \n",
    "    exam_data = {\n",
    "        'name': ['Anastasia', 'Dima', 'Katherine', 'James', 'Emily', 'Michael', 'Matthew',\n",
    "                 'Laura', 'Kevin', 'Jonas'],\n",
    "        'score': [12.5, 9, 16.5, np.nan, 9, 20, 14.5, np.nan, 8, 19],\n",
    "        'attempts': [1, 3, 2, 3, 2, 3, 1, 1, 2, 1],\n",
    "        'qualify': ['yes', 'no', 'yes', 'no', 'no', 'yes', 'yes', 'no', 'no', 'yes']\n",
    "    }\n",
    "\n",
    "    labels = ['a', 'b', 'c', 'd', 'e', 'f', 'g', 'h', 'i', 'j']\n",
    "\n",
    "    dataframe = pd.DataFrame(exam_data, index=labels)\n",
    "\n",
    "    updated_dataframe = update_score(dataframe)\n",
    "\n",
    "    print(\"DataFrame after updating the score in row 'd':\")\n",
    "    print(updated_dataframe)\n",
    "\n",
    "if __name__ == \"__main__\":\n",
    "    main()\n"
   ]
  },
  {
   "cell_type": "markdown",
   "metadata": {},
   "source": []
  },
  {
   "cell_type": "code",
   "execution_count": 16,
   "metadata": {},
   "outputs": [
    {
     "name": "stdout",
     "output_type": "stream",
     "text": [
      "Total number of examination attempts: 19\n"
     ]
    }
   ],
   "source": [
    "def sum_attempts(dataframe):\n",
    "    \"\"\"\n",
    "    Description:\n",
    "        Calculates the sum of the examination attempts by the students.\n",
    "\n",
    "    Parameter:\n",
    "        dataframe (pd.DataFrame): The DataFrame from which to calculate the sum.\n",
    "\n",
    "    Return:\n",
    "        int: The sum of the examination attempts.\n",
    "    \"\"\"\n",
    "    return dataframe['attempts'].sum()\n",
    "\n",
    "def main():\n",
    "   \n",
    "    exam_data = {\n",
    "        'name': ['Anastasia', 'Dima', 'Katherine', 'James', 'Emily', 'Michael', 'Matthew',\n",
    "                 'Laura', 'Kevin', 'Jonas'],\n",
    "        'score': [12.5, 9, 16.5, np.nan, 9, 20, 14.5, np.nan, 8, 19],\n",
    "        'attempts': [1, 3, 2, 3, 2, 3, 1, 1, 2, 1],\n",
    "        'qualify': ['yes', 'no', 'yes', 'no', 'no', 'yes', 'yes', 'no', 'no', 'yes']\n",
    "    }\n",
    "\n",
    "    labels = ['a', 'b', 'c', 'd', 'e', 'f', 'g', 'h', 'i', 'j']\n",
    "\n",
    "    dataframe = pd.DataFrame(exam_data, index=labels)\n",
    "\n",
    "    total_attempts = sum_attempts(dataframe)\n",
    "\n",
    "    print(f\"Total number of examination attempts: {total_attempts}\")\n",
    "\n",
    "if __name__ == \"__main__\":\n",
    "    main()\n"
   ]
  },
  {
   "cell_type": "markdown",
   "metadata": {},
   "source": [
    "16. Write a Python program to calculate the mean score for each different student in\n",
    "DataFrame."
   ]
  },
  {
   "cell_type": "code",
   "execution_count": 17,
   "metadata": {},
   "outputs": [
    {
     "name": "stdout",
     "output_type": "stream",
     "text": [
      "Mean scores for each student:\n",
      "a    12.5\n",
      "b     9.0\n",
      "c    16.5\n",
      "d     NaN\n",
      "e     9.0\n",
      "f    20.0\n",
      "g    14.5\n",
      "h     NaN\n",
      "i     8.0\n",
      "j    19.0\n",
      "Name: score, dtype: float64\n"
     ]
    }
   ],
   "source": [
    "def mean_score(dataframe):\n",
    "    \"\"\"\n",
    "    Description:\n",
    "        Calculates the mean score for each student in the DataFrame.\n",
    "        Since each student has only one score, this will just return the score for each student.\n",
    "\n",
    "    Parameter:\n",
    "        dataframe (pd.DataFrame): The DataFrame containing student data.\n",
    "\n",
    "    Return:\n",
    "        pd.Series: A Series with student labels as index and their corresponding scores.\n",
    "    \"\"\"\n",
    "    return dataframe['score']\n",
    "\n",
    "def main():\n",
    "    \n",
    "    exam_data = {\n",
    "        'name': ['Anastasia', 'Dima', 'Katherine', 'James', 'Emily', 'Michael', 'Matthew',\n",
    "                 'Laura', 'Kevin', 'Jonas'],\n",
    "        'score': [12.5, 9, 16.5, np.nan, 9, 20, 14.5, np.nan, 8, 19],\n",
    "        'attempts': [1, 3, 2, 3, 2, 3, 1, 1, 2, 1],\n",
    "        'qualify': ['yes', 'no', 'yes', 'no', 'no', 'yes', 'yes', 'no', 'no', 'yes']\n",
    "    }\n",
    "\n",
    "    labels = ['a', 'b', 'c', 'd', 'e', 'f', 'g', 'h', 'i', 'j']\n",
    "\n",
    "    dataframe = pd.DataFrame(exam_data, index=labels)\n",
    "\n",
    "    mean_scores = mean_score(dataframe)\n",
    "\n",
    "    print(\"Mean scores for each student:\")\n",
    "    print(mean_scores)\n",
    "\n",
    "if __name__ == \"__main__\":\n",
    "    main()\n"
   ]
  },
  {
   "cell_type": "markdown",
   "metadata": {},
   "source": [
    "17. Write a Python program to append a new row 'k' to data frame with given values for\n",
    "each column. Now delete the new row and return the original DataFrame."
   ]
  },
  {
   "cell_type": "code",
   "execution_count": 18,
   "metadata": {},
   "outputs": [
    {
     "name": "stdout",
     "output_type": "stream",
     "text": [
      "Original DataFrame after appending and deleting the new row:\n",
      "        name  score  attempts qualify\n",
      "a  Anastasia   12.5         1     yes\n",
      "b       Dima    9.0         3      no\n",
      "c  Katherine   16.5         2     yes\n",
      "d      James    NaN         3      no\n",
      "e      Emily    9.0         2      no\n",
      "f    Michael   20.0         3     yes\n",
      "g    Matthew   14.5         1     yes\n",
      "h      Laura    NaN         1      no\n",
      "i      Kevin    8.0         2      no\n",
      "j      Jonas   19.0         1     yes\n"
     ]
    }
   ],
   "source": [
    "def modify_dataframe(dataframe):\n",
    "    \"\"\"\n",
    "    Description:\n",
    "        Appends a new row to the DataFrame, then deletes the row, and returns the original DataFrame.\n",
    "\n",
    "    Parameter:\n",
    "        dataframe (pd.DataFrame): The DataFrame to be modified.\n",
    "\n",
    "    Return:\n",
    "        pd.DataFrame: The original DataFrame after appending and deleting the new row.\n",
    "    \"\"\"\n",
    "    new_row = pd.DataFrame({\n",
    "        'name': ['Suresh'],\n",
    "        'score': [15.5],\n",
    "        'attempts': [1],\n",
    "        'qualify': ['yes']\n",
    "    }, index=['k'])\n",
    "    \n",
    "    dataframe = pd.concat([dataframe, new_row])\n",
    "\n",
    "    dataframe = dataframe.drop('k')\n",
    "\n",
    "    return dataframe\n",
    "\n",
    "def main():\n",
    "\n",
    "    exam_data = {\n",
    "        'name': ['Anastasia', 'Dima', 'Katherine', 'James', 'Emily', 'Michael', 'Matthew',\n",
    "                 'Laura', 'Kevin', 'Jonas'],\n",
    "        'score': [12.5, 9, 16.5, np.nan, 9, 20, 14.5, np.nan, 8, 19],\n",
    "        'attempts': [1, 3, 2, 3, 2, 3, 1, 1, 2, 1],\n",
    "        'qualify': ['yes', 'no', 'yes', 'no', 'no', 'yes', 'yes', 'no', 'no', 'yes']\n",
    "    }\n",
    "    labels = ['a', 'b', 'c', 'd', 'e', 'f', 'g', 'h', 'i', 'j']\n",
    "\n",
    "    dataframe = pd.DataFrame(exam_data, index=labels)\n",
    "  \n",
    "    print(\"Original DataFrame after appending and deleting the new row:\")\n",
    "    print(modify_dataframe(dataframe))\n",
    "\n",
    "if __name__ == \"__main__\":\n",
    "    main()\n"
   ]
  },
  {
   "cell_type": "markdown",
   "metadata": {},
   "source": [
    "18. Write a Python program to sort the DataFrame first by 'name' in descending order,\n",
    "then by 'score' in ascending order."
   ]
  },
  {
   "cell_type": "code",
   "execution_count": 19,
   "metadata": {},
   "outputs": [
    {
     "name": "stdout",
     "output_type": "stream",
     "text": [
      "Sorted DataFrame:\n",
      "        name  score  attempts qualify\n",
      "k     Suresh   15.5         1     yes\n",
      "f    Michael   20.0         3     yes\n",
      "g    Matthew   14.5         1     yes\n",
      "h      Laura    NaN         1      no\n",
      "i      Kevin    8.0         2      no\n",
      "c  Katherine   16.5         2     yes\n",
      "j      Jonas   19.0         1     yes\n",
      "d      James    NaN         3      no\n",
      "e      Emily    9.0         2      no\n",
      "b       Dima    9.0         3      no\n",
      "a  Anastasia   12.5         1     yes\n"
     ]
    }
   ],
   "source": [
    "def sort_dataframe(dataframe):\n",
    "    \"\"\"\n",
    "    Description:\n",
    "        Sorts the DataFrame first by 'name' in descending order, then by 'score' in ascending order.\n",
    "\n",
    "    Parameter:\n",
    "        dataframe (pd.DataFrame): The DataFrame to be sorted.\n",
    "\n",
    "    Return:\n",
    "        pd.DataFrame: The sorted DataFrame.\n",
    "    \"\"\"\n",
    "    sorted_dataframe = dataframe.sort_values(by=['name', 'score'], ascending=[False, True])\n",
    "    \n",
    "    return sorted_dataframe\n",
    "\n",
    "def main():\n",
    "  \n",
    "    exam_data = {\n",
    "        'name': ['Anastasia', 'Dima', 'Katherine', 'James', 'Emily', 'Michael', 'Matthew',\n",
    "                 'Laura', 'Kevin', 'Jonas'],\n",
    "        'score': [12.5, 9, 16.5, np.nan, 9, 20, 14.5, np.nan, 8, 19],\n",
    "        'attempts': [1, 3, 2, 3, 2, 3, 1, 1, 2, 1],\n",
    "        'qualify': ['yes', 'no', 'yes', 'no', 'no', 'yes', 'yes', 'no', 'no', 'yes']\n",
    "    }\n",
    "    labels = ['a', 'b', 'c', 'd', 'e', 'f', 'g', 'h', 'i', 'j']\n",
    "\n",
    "    dataframe = pd.DataFrame(exam_data, index=labels)\n",
    "\n",
    "    new_row = pd.DataFrame({\n",
    "        'name': ['Suresh'],\n",
    "        'score': [15.5],\n",
    "        'attempts': [1],\n",
    "        'qualify': ['yes']\n",
    "    }, index=['k'])\n",
    "\n",
    "    dataframe = pd.concat([dataframe, new_row])\n",
    "\n",
    "    sorted_dataframe = sort_dataframe(dataframe)\n",
    "\n",
    "    print(\"Sorted DataFrame:\")\n",
    "    print(sorted_dataframe)\n",
    "\n",
    "if __name__ == \"__main__\":\n",
    "    main()\n"
   ]
  },
  {
   "cell_type": "markdown",
   "metadata": {},
   "source": [
    "19. Write a Python program to replace the 'qualify' column contains the values 'yes' and\n",
    "'no' with True and False."
   ]
  },
  {
   "cell_type": "code",
   "execution_count": 20,
   "metadata": {},
   "outputs": [
    {
     "name": "stdout",
     "output_type": "stream",
     "text": [
      "Updated DataFrame with 'qualify' values replaced:\n",
      "        name  score  attempts  qualify\n",
      "a  Anastasia   12.5         1     True\n",
      "b       Dima    9.0         3    False\n",
      "c  Katherine   16.5         2     True\n",
      "d      James    NaN         3    False\n",
      "e      Emily    9.0         2    False\n",
      "f    Michael   20.0         3     True\n",
      "g    Matthew   14.5         1     True\n",
      "h      Laura    NaN         1    False\n",
      "i      Kevin    8.0         2    False\n",
      "j      Jonas   19.0         1     True\n"
     ]
    },
    {
     "name": "stderr",
     "output_type": "stream",
     "text": [
      "C:\\Users\\samad\\AppData\\Local\\Temp\\ipykernel_1192\\391399592.py:13: FutureWarning: Downcasting behavior in `replace` is deprecated and will be removed in a future version. To retain the old behavior, explicitly call `result.infer_objects(copy=False)`. To opt-in to the future behavior, set `pd.set_option('future.no_silent_downcasting', True)`\n",
      "  dataframe['qualify'] = dataframe['qualify'].replace({'yes': True, 'no': False})\n"
     ]
    }
   ],
   "source": [
    "def replace_values(dataframe):\n",
    "    \"\"\"\n",
    "    Description:\n",
    "        Replaces 'yes' with True and 'no' with False in the 'qualify' column.\n",
    "\n",
    "    Parameter:\n",
    "        dataframe (pd.DataFrame): The DataFrame with the 'qualify' column to be replaced.\n",
    "\n",
    "    Return:\n",
    "        pd.DataFrame: The DataFrame with replaced values in the 'qualify' column.\n",
    "    \"\"\"\n",
    "    \n",
    "    dataframe['qualify'] = dataframe['qualify'].replace({'yes': True, 'no': False})\n",
    "    \n",
    "    return dataframe\n",
    "\n",
    "def main():\n",
    "    \n",
    "    exam_data = {\n",
    "        'name': ['Anastasia', 'Dima', 'Katherine', 'James', 'Emily', 'Michael', 'Matthew',\n",
    "                 'Laura', 'Kevin', 'Jonas'],\n",
    "        'score': [12.5, 9, 16.5, np.nan, 9, 20, 14.5, np.nan, 8, 19],\n",
    "        'attempts': [1, 3, 2, 3, 2, 3, 1, 1, 2, 1],\n",
    "        'qualify': ['yes', 'no', 'yes', 'no', 'no', 'yes', 'yes', 'no', 'no', 'yes']\n",
    "    }\n",
    "    labels = ['a', 'b', 'c', 'd', 'e', 'f', 'g', 'h', 'i', 'j']\n",
    "\n",
    "    dataframe = pd.DataFrame(exam_data, index=labels)\n",
    "\n",
    "    print(\"Updated DataFrame with 'qualify' values replaced:\")\n",
    "    print(replace_values(dataframe))\n",
    "\n",
    "if __name__ == \"__main__\":\n",
    "    main()\n"
   ]
  },
  {
   "cell_type": "markdown",
   "metadata": {},
   "source": [
    "20. Write a Python program to delete the 'attempts' column from the DataFrame."
   ]
  },
  {
   "cell_type": "code",
   "execution_count": 21,
   "metadata": {},
   "outputs": [
    {
     "name": "stdout",
     "output_type": "stream",
     "text": [
      "DataFrame after deleting the 'attempts' column:\n",
      "        name  score qualify\n",
      "a  Anastasia   12.5     yes\n",
      "b       Dima    9.0      no\n",
      "c  Katherine   16.5     yes\n",
      "d      James    NaN      no\n",
      "e      Emily    9.0      no\n",
      "f    Michael   20.0     yes\n",
      "g    Matthew   14.5     yes\n",
      "h      Laura    NaN      no\n",
      "i      Kevin    8.0      no\n",
      "j      Jonas   19.0     yes\n"
     ]
    }
   ],
   "source": [
    "def delete_column(dataframe):\n",
    "    \"\"\"\n",
    "    Description:\n",
    "        Deletes the 'attempts' column from the DataFrame.\n",
    "\n",
    "    Parameter:\n",
    "        dataframe (pd.DataFrame): The DataFrame from which to delete the 'attempts' column.\n",
    "\n",
    "    Return:\n",
    "        pd.DataFrame: The DataFrame with the 'attempts' column removed.\n",
    "    \"\"\"\n",
    "    dataframe = dataframe.drop(columns='attempts')\n",
    "    \n",
    "    return dataframe\n",
    "\n",
    "def main():\n",
    "    \n",
    "    exam_data = {\n",
    "        'name': ['Anastasia', 'Dima', 'Katherine', 'James', 'Emily', 'Michael', 'Matthew',\n",
    "                 'Laura', 'Kevin', 'Jonas'],\n",
    "        'score': [12.5, 9, 16.5, np.nan, 9, 20, 14.5, np.nan, 8, 19],\n",
    "        'attempts': [1, 3, 2, 3, 2, 3, 1, 1, 2, 1],\n",
    "        'qualify': ['yes', 'no', 'yes', 'no', 'no', 'yes', 'yes', 'no', 'no', 'yes']\n",
    "    }\n",
    "\n",
    "    labels = ['a', 'b', 'c', 'd', 'e', 'f', 'g', 'h', 'i', 'j']\n",
    "\n",
    "    dataframe = pd.DataFrame(exam_data, index=labels)\n",
    "\n",
    "    print(\"DataFrame after deleting the 'attempts' column:\")\n",
    "    print(delete_column(dataframe))\n",
    "\n",
    "if __name__ == \"__main__\":\n",
    "    main()\n"
   ]
  },
  {
   "cell_type": "markdown",
   "metadata": {},
   "source": [
    "21. Write a Python program to insert a new column in existing DataFrame."
   ]
  },
  {
   "cell_type": "code",
   "execution_count": 22,
   "metadata": {},
   "outputs": [
    {
     "name": "stdout",
     "output_type": "stream",
     "text": [
      "DataFrame after inserting the new column:\n",
      "        name  score  attempts qualify grade\n",
      "a  Anastasia   12.5         1     yes     A\n",
      "b       Dima    9.0         3      no     B\n",
      "c  Katherine   16.5         2     yes     A\n",
      "d      James    NaN         3      no     C\n",
      "e      Emily    9.0         2      no     B\n",
      "f    Michael   20.0         3     yes     A\n",
      "g    Matthew   14.5         1     yes     B\n",
      "h      Laura    NaN         1      no     C\n",
      "i      Kevin    8.0         2      no     B\n",
      "j      Jonas   19.0         1     yes     A\n"
     ]
    }
   ],
   "source": [
    "def insert_column(dataframe, column_name, values):\n",
    "    \"\"\"\n",
    "    Description:\n",
    "        Inserts a new column into the existing DataFrame.\n",
    "\n",
    "    Parameter:\n",
    "        dataframe (pd.DataFrame): The DataFrame to which the new column will be added.\n",
    "        column_name (str): The name of the new column.\n",
    "        values (list): The values for the new column.\n",
    "\n",
    "    Return:\n",
    "        pd.DataFrame: The DataFrame with the new column added.\n",
    "    \"\"\"\n",
    "    dataframe[column_name] = values\n",
    "    return dataframe\n",
    "\n",
    "def main():\n",
    "    \n",
    "    exam_data = {\n",
    "        'name': ['Anastasia', 'Dima', 'Katherine', 'James', 'Emily', 'Michael', 'Matthew',\n",
    "                 'Laura', 'Kevin', 'Jonas'],\n",
    "        'score': [12.5, 9, 16.5, np.nan, 9, 20, 14.5, np.nan, 8, 19],\n",
    "        'attempts': [1, 3, 2, 3, 2, 3, 1, 1, 2, 1],\n",
    "        'qualify': ['yes', 'no', 'yes', 'no', 'no', 'yes', 'yes', 'no', 'no', 'yes']\n",
    "    }\n",
    "    labels = ['a', 'b', 'c', 'd', 'e', 'f', 'g', 'h', 'i', 'j']\n",
    "\n",
    "    dataframe = pd.DataFrame(exam_data, index=labels)\n",
    "\n",
    "    column_name = 'grade'\n",
    "    values = ['A', 'B', 'A', 'C', 'B', 'A', 'B', 'C', 'B', 'A']\n",
    "\n",
    "    updated_dataframe = insert_column(dataframe, column_name,values)\n",
    "\n",
    "    print(\"DataFrame after inserting the new column:\")\n",
    "    print(updated_dataframe)\n",
    "\n",
    "if __name__ == \"__main__\":\n",
    "    main()\n"
   ]
  },
  {
   "cell_type": "markdown",
   "metadata": {},
   "source": [
    "22. Write a Python program to iterate over rows in a DataFrame."
   ]
  },
  {
   "cell_type": "code",
   "execution_count": 23,
   "metadata": {},
   "outputs": [
    {
     "name": "stdout",
     "output_type": "stream",
     "text": [
      "Index: a\n",
      "Row data:\n",
      "name        Anastasia\n",
      "score            12.5\n",
      "attempts            1\n",
      "qualify           yes\n",
      "Name: a, dtype: object\n",
      "\n",
      "Index: b\n",
      "Row data:\n",
      "name        Dima\n",
      "score        9.0\n",
      "attempts       3\n",
      "qualify       no\n",
      "Name: b, dtype: object\n",
      "\n",
      "Index: c\n",
      "Row data:\n",
      "name        Katherine\n",
      "score            16.5\n",
      "attempts            2\n",
      "qualify           yes\n",
      "Name: c, dtype: object\n",
      "\n",
      "Index: d\n",
      "Row data:\n",
      "name        James\n",
      "score         NaN\n",
      "attempts        3\n",
      "qualify        no\n",
      "Name: d, dtype: object\n",
      "\n",
      "Index: e\n",
      "Row data:\n",
      "name        Emily\n",
      "score         9.0\n",
      "attempts        2\n",
      "qualify        no\n",
      "Name: e, dtype: object\n",
      "\n",
      "Index: f\n",
      "Row data:\n",
      "name        Michael\n",
      "score          20.0\n",
      "attempts          3\n",
      "qualify         yes\n",
      "Name: f, dtype: object\n",
      "\n",
      "Index: g\n",
      "Row data:\n",
      "name        Matthew\n",
      "score          14.5\n",
      "attempts          1\n",
      "qualify         yes\n",
      "Name: g, dtype: object\n",
      "\n",
      "Index: h\n",
      "Row data:\n",
      "name        Laura\n",
      "score         NaN\n",
      "attempts        1\n",
      "qualify        no\n",
      "Name: h, dtype: object\n",
      "\n",
      "Index: i\n",
      "Row data:\n",
      "name        Kevin\n",
      "score         8.0\n",
      "attempts        2\n",
      "qualify        no\n",
      "Name: i, dtype: object\n",
      "\n",
      "Index: j\n",
      "Row data:\n",
      "name        Jonas\n",
      "score        19.0\n",
      "attempts        1\n",
      "qualify       yes\n",
      "Name: j, dtype: object\n",
      "\n"
     ]
    }
   ],
   "source": [
    "def iterate_rows(dataframe):\n",
    "    \"\"\"\n",
    "    Description:\n",
    "        Iterates over rows in the DataFrame and prints each row.\n",
    "\n",
    "    Parameter:\n",
    "        dataframe (pd.DataFrame): The DataFrame to iterate over.\n",
    "    \"\"\"\n",
    "\n",
    "    for index, row in dataframe.iterrows():\n",
    "        print(f\"Index: {index}\")\n",
    "        print(f\"Row data:\\n{row}\\n\")\n",
    "\n",
    "def main():\n",
    "    \n",
    "    exam_data = {\n",
    "        'name': ['Anastasia', 'Dima', 'Katherine', 'James', 'Emily', 'Michael', 'Matthew',\n",
    "                 'Laura', 'Kevin', 'Jonas'],\n",
    "        'score': [12.5, 9, 16.5, np.nan, 9, 20, 14.5, np.nan, 8, 19],\n",
    "        'attempts': [1, 3, 2, 3, 2, 3, 1, 1, 2, 1],\n",
    "        'qualify': ['yes', 'no', 'yes', 'no', 'no', 'yes', 'yes', 'no', 'no', 'yes']\n",
    "    }\n",
    "    labels = ['a', 'b', 'c', 'd', 'e', 'f', 'g', 'h', 'i', 'j']\n",
    "\n",
    "    dataframe = pd.DataFrame(exam_data, index=labels)\n",
    "\n",
    "    iterate_rows(dataframe)\n",
    "\n",
    "if __name__ == \"__main__\":\n",
    "    main()\n"
   ]
  },
  {
   "cell_type": "markdown",
   "metadata": {},
   "source": [
    "23. Write a Python program to get list from DataFrame column headers."
   ]
  },
  {
   "cell_type": "code",
   "execution_count": 24,
   "metadata": {},
   "outputs": [
    {
     "name": "stdout",
     "output_type": "stream",
     "text": [
      "Column headers: ['name', 'score', 'attempts', 'qualify']\n"
     ]
    }
   ],
   "source": [
    "def column_headers(dataframe):\n",
    "    \"\"\"\n",
    "    Description:\n",
    "        Gets the list of column headers from the DataFrame.\n",
    "\n",
    "    Parameter:\n",
    "        dataframe (pd.DataFrame): The DataFrame from which to get column headers.\n",
    "\n",
    "    Return:\n",
    "        list: A list of column headers.\n",
    "    \"\"\"\n",
    "    return list(dataframe.columns)\n",
    "\n",
    "def main():\n",
    "    \n",
    "    exam_data = {\n",
    "        'name': ['Anastasia', 'Dima', 'Katherine', 'James', 'Emily', 'Michael', 'Matthew',\n",
    "                 'Laura', 'Kevin', 'Jonas'],\n",
    "        'score': [12.5, 9, 16.5, np.nan, 9, 20, 14.5, np.nan, 8, 19],\n",
    "        'attempts': [1, 3, 2, 3, 2, 3, 1, 1, 2, 1],\n",
    "        'qualify': ['yes', 'no', 'yes', 'no', 'no', 'yes', 'yes', 'no', 'no', 'yes']\n",
    "    }\n",
    "    labels = ['a', 'b', 'c', 'd', 'e', 'f', 'g', 'h', 'i', 'j']\n",
    "\n",
    "    dataframe = pd.DataFrame(exam_data, index=labels)\n",
    "\n",
    "    print(\"Column headers:\", column_headers(dataframe))\n",
    "\n",
    "if __name__ == \"__main__\":\n",
    "    main()\n"
   ]
  }
 ],
 "metadata": {
  "kernelspec": {
   "display_name": "Python 3",
   "language": "python",
   "name": "python3"
  },
  "language_info": {
   "codemirror_mode": {
    "name": "ipython",
    "version": 3
   },
   "file_extension": ".py",
   "mimetype": "text/x-python",
   "name": "python",
   "nbconvert_exporter": "python",
   "pygments_lexer": "ipython3",
   "version": "3.12.5"
  }
 },
 "nbformat": 4,
 "nbformat_minor": 2
}
