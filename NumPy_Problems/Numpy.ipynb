{
 "cells": [
  {
   "cell_type": "markdown",
   "metadata": {},
   "source": [
    "'''\n",
    "@Author: Samadhan Thube\n",
    "\n",
    "@Date: 2024-08-28\n",
    "\n",
    "@last modified by : Samadhan Thube\n",
    "\n",
    "@last modified date : 2024-08-28\n",
    " \n",
    "@Title : Numpy Library\n",
    "\n",
    "'''"
   ]
  },
  {
   "cell_type": "code",
   "execution_count": 1,
   "metadata": {},
   "outputs": [],
   "source": [
    "import numpy as np"
   ]
  },
  {
   "cell_type": "markdown",
   "metadata": {},
   "source": [
    "1. Write a Python program to convert a list of numeric value into a one-dimensional NumPy array."
   ]
  },
  {
   "cell_type": "code",
   "execution_count": 2,
   "metadata": {},
   "outputs": [
    {
     "name": "stdout",
     "output_type": "stream",
     "text": [
      "Original List: [12.23, 13.32, 100, 36.32]\n",
      "One-dimensional numpy array: [ 12.23  13.32 100.    36.32]\n"
     ]
    }
   ],
   "source": [
    "def list_to_numpy_array(original_list):\n",
    "    \"\"\"\n",
    "    Description:\n",
    "        Converts a list of numeric values into a one-dimensional NumPy array.\n",
    "    \n",
    "    Parameter:\n",
    "        input_list (list): A list of numeric values.\n",
    "        \n",
    "    Return:\n",
    "        numpy.ndarray: A one-dimensional NumPy array containing the numeric values from the input list.\n",
    "    \"\"\"\n",
    "    return np.array(original_list)\n",
    "\n",
    "def main():\n",
    "    \n",
    "    original_list = [12.23, 13.32, 100, 36.32]\n",
    "    print(\"Original List:\", original_list)\n",
    "    \n",
    "    numpy_array = list_to_numpy_array(original_list)\n",
    "    print(\"One-dimensional numpy array:\", numpy_array)\n",
    "\n",
    "if __name__ == \"__main__\":\n",
    "    main()"
   ]
  },
  {
   "cell_type": "markdown",
   "metadata": {},
   "source": [
    "2. Create a 3x3 matrix with values ranging from 2 to 10."
   ]
  },
  {
   "cell_type": "code",
   "execution_count": 3,
   "metadata": {},
   "outputs": [
    {
     "name": "stdout",
     "output_type": "stream",
     "text": [
      "3x3 Matrix with values ranging from 2 to 10:\n",
      "[[ 2  3  4]\n",
      " [ 5  6  7]\n",
      " [ 8  9 10]]\n"
     ]
    }
   ],
   "source": [
    "def create_matrix(start, end, shape):\n",
    "    \"\"\"\n",
    "    Description:\n",
    "        Creates a matrix with values in a specified range and shape.\n",
    "    \n",
    "    Parameters:\n",
    "        start (int): The starting value of the range.\n",
    "        end (int): The ending value of the range.\n",
    "        shape (tuple): The desired shape of the matrix.\n",
    "        \n",
    "    Return:\n",
    "        numpy.ndarray: A matrix with values ranging from start to end.\n",
    "    \"\"\"\n",
    "    return np.arange(start, end + 1).reshape(shape)\n",
    "\n",
    "def main():\n",
    "    \n",
    "    start_value = 2\n",
    "    end_value = 10\n",
    "    matrix_shape = (3, 3)\n",
    "    \n",
    "    matrix = create_matrix(start_value, end_value, matrix_shape)\n",
    "    \n",
    "    print(\"3x3 Matrix with values ranging from 2 to 10:\")\n",
    "    print(matrix)\n",
    "\n",
    "if __name__ == \"__main__\":\n",
    "    main()"
   ]
  },
  {
   "cell_type": "markdown",
   "metadata": {},
   "source": [
    "3. Write a Python program to create a null vector of size 10 and update sixth value to 11."
   ]
  },
  {
   "cell_type": "code",
   "execution_count": 4,
   "metadata": {},
   "outputs": [
    {
     "name": "stdout",
     "output_type": "stream",
     "text": [
      "[ 0.  0.  0.  0.  0. 11.  0.  0.  0.  0.]\n"
     ]
    }
   ],
   "source": [
    "def null_vector (size , index ,value):\n",
    "    \"\"\"\n",
    "    Description:\n",
    "        Creates a null vector of a given size and updates a specified index with a new value.\n",
    "    \n",
    "    Parameters:\n",
    "        size (int): The size of the null vector.\n",
    "        index (int): The index of the element to update.\n",
    "        value (int): The new value to be set at the specified index.\n",
    "        \n",
    "    Return:\n",
    "        numpy.ndarray: A null vector with an updated value at the specified index.\n",
    "    \"\"\"\n",
    "    \n",
    "    vector = np.zeros(size)\n",
    "    \n",
    "    vector[index] = value\n",
    "    \n",
    "    return vector\n",
    "\n",
    "def main():\n",
    "    \n",
    "    size = 10\n",
    "    index = 5\n",
    "    value = 11\n",
    "    \n",
    "    print(null_vector(size,index,value))\n",
    "    \n",
    "if __name__ == \"__main__\":\n",
    "    main()"
   ]
  },
  {
   "cell_type": "markdown",
   "metadata": {},
   "source": [
    "4. Write a Python program to reverse an array (first element becomes last)."
   ]
  },
  {
   "cell_type": "code",
   "execution_count": 5,
   "metadata": {},
   "outputs": [
    {
     "name": "stdout",
     "output_type": "stream",
     "text": [
      "Original array:\n",
      "[12 13 14 15 16 17 18 19 20 21 22 23 24 25 26 27 28 29 30 31 32 33 34 35\n",
      " 36 37]\n",
      "Reverse array:\n",
      "[37 36 35 34 33 32 31 30 29 28 27 26 25 24 23 22 21 20 19 18 17 16 15 14\n",
      " 13 12]\n"
     ]
    }
   ],
   "source": [
    "def reverse_array(original_array):\n",
    "    \"\"\"\n",
    "    Description:\n",
    "        Reverses the given NumPy array using np.flip.\n",
    "    \n",
    "    Parameter:\n",
    "        original_array (numpy.ndarray): The array to be reversed.\n",
    "        \n",
    "    Return:\n",
    "        numpy.ndarray: The reversed array.\n",
    "    \"\"\"\n",
    "    return np.flip(original_array)\n",
    "\n",
    "def main():\n",
    "\n",
    "    original_array = np.array([12, 13, 14, 15, 16, 17, 18, 19, 20, 21, 22, 23, 24, 25, 26, 27, 28, 29, 30, 31, 32, 33, 34, 35, 36, 37])\n",
    "    \n",
    "    print(\"Original array:\")\n",
    "    print(original_array)\n",
    "    \n",
    "    reversed_array = reverse_array(original_array)\n",
    "    \n",
    "    print(\"Reverse array:\")\n",
    "    print(reversed_array)\n",
    "\n",
    "if __name__ == \"__main__\":\n",
    "    main()\n"
   ]
  },
  {
   "cell_type": "markdown",
   "metadata": {},
   "source": [
    "5. Write a Python program to create a 2d array with 1 on the border and 0 inside."
   ]
  },
  {
   "cell_type": "code",
   "execution_count": 6,
   "metadata": {},
   "outputs": [
    {
     "name": "stdout",
     "output_type": "stream",
     "text": [
      "Original array:\n",
      "[[1. 1. 1. 1. 1.]\n",
      " [1. 1. 1. 1. 1.]\n",
      " [1. 1. 1. 1. 1.]\n",
      " [1. 1. 1. 1. 1.]\n",
      " [1. 1. 1. 1. 1.]]\n",
      "\n",
      "1 on the border and 0 inside in the array:\n",
      "[[1. 1. 1. 1. 1.]\n",
      " [1. 0. 0. 0. 1.]\n",
      " [1. 0. 0. 0. 1.]\n",
      " [1. 0. 0. 0. 1.]\n",
      " [1. 1. 1. 1. 1.]]\n"
     ]
    }
   ],
   "source": [
    "def create_border_array(size):\n",
    "    \"\"\"\n",
    "    Description:\n",
    "        Creates a 2D array with 1s on the border and 0s inside.\n",
    "    \n",
    "    Parameter:\n",
    "        size (int): The size of the 2D square array.\n",
    "        \n",
    "    Return:\n",
    "        numpy.ndarray: A 2D array with 1s on the border and 0s inside.\n",
    "    \"\"\"\n",
    "    array = np.ones((size, size))\n",
    "    \n",
    "    array[1:-1, 1:-1] = 0\n",
    "    \n",
    "    return array\n",
    "\n",
    "def main():\n",
    "    \n",
    "    size = 5\n",
    "   \n",
    "    original_array = np.ones((size, size))\n",
    "    print(\"Original array:\")\n",
    "    print(original_array)\n",
    "    \n",
    "    bordered_array = create_border_array(size)\n",
    "    print(\"\\n1 on the border and 0 inside in the array:\")\n",
    "    print(bordered_array)\n",
    "\n",
    "if __name__ == \"__main__\":\n",
    "    main()"
   ]
  },
  {
   "cell_type": "code",
   "execution_count": 7,
   "metadata": {},
   "outputs": [
    {
     "name": "stdout",
     "output_type": "stream",
     "text": [
      "Original array:\n",
      "[[1. 1. 1.]\n",
      " [1. 1. 1.]\n",
      " [1. 1. 1.]]\n",
      "Array with a border of zeros:\n",
      "[[0. 0. 0. 0. 0.]\n",
      " [0. 1. 1. 1. 0.]\n",
      " [0. 1. 1. 1. 0.]\n",
      " [0. 1. 1. 1. 0.]\n",
      " [0. 0. 0. 0. 0.]]\n"
     ]
    }
   ],
   "source": [
    "def add_zero_border(original_array):\n",
    "    \"\"\"\n",
    "    Description:\n",
    "        Adds a border of zeros around a 2D NumPy array.\n",
    "    \n",
    "    Parameter:\n",
    "        array (numpy.ndarray): The original 2D array.\n",
    "        \n",
    "    Return:\n",
    "        numpy.ndarray: A new 2D array with a border of zeros added.\n",
    "    \"\"\"\n",
    "    bordered_array = np.pad(original_array, pad_width=1, mode='constant', constant_values=0)\n",
    "    return bordered_array\n",
    "\n",
    "def main():\n",
    "    \n",
    "    original_array = np.ones((3, 3))\n",
    "    print(\"Original array:\")\n",
    "    print(original_array)\n",
    "    \n",
    "    \n",
    "    bordered_array = add_zero_border(original_array)\n",
    "    print(\"Array with a border of zeros:\")\n",
    "    print(bordered_array)\n",
    "\n",
    "\n",
    "if __name__ == \"__main__\":\n",
    "    main()"
   ]
  },
  {
   "cell_type": "markdown",
   "metadata": {},
   "source": [
    "7. Write a Python program to create a 8x8 matrix and fill it with a checkerboard pattern."
   ]
  },
  {
   "cell_type": "code",
   "execution_count": 8,
   "metadata": {},
   "outputs": [
    {
     "name": "stdout",
     "output_type": "stream",
     "text": [
      "Original array:\n",
      "[[0 0 0 0 0 0 0 0]\n",
      " [0 0 0 0 0 0 0 0]\n",
      " [0 0 0 0 0 0 0 0]\n",
      " [0 0 0 0 0 0 0 0]\n",
      " [0 0 0 0 0 0 0 0]\n",
      " [0 0 0 0 0 0 0 0]\n",
      " [0 0 0 0 0 0 0 0]\n",
      " [0 0 0 0 0 0 0 0]]\n",
      "\n",
      "Checkerboard pattern:\n",
      "[[0 1 0 1 0 1 0 1]\n",
      " [1 0 1 0 1 0 1 0]\n",
      " [0 1 0 1 0 1 0 1]\n",
      " [1 0 1 0 1 0 1 0]\n",
      " [0 1 0 1 0 1 0 1]\n",
      " [1 0 1 0 1 0 1 0]\n",
      " [0 1 0 1 0 1 0 1]\n",
      " [1 0 1 0 1 0 1 0]]\n"
     ]
    }
   ],
   "source": [
    "def checkerboard(original_array):\n",
    "    \"\"\"\n",
    "    Description:\n",
    "        Modifies a 2D NumPy array to have a checkerboard pattern.\n",
    "    \n",
    "    Parameter:\n",
    "        original_array (numpy.ndarray): The original 2D array to modify.\n",
    "        \n",
    "    Return:\n",
    "        numpy.ndarray: The modified 2D array with a checkerboard pattern.\n",
    "    \"\"\"\n",
    "\n",
    "    original_array[1::2, ::2] = 1\n",
    "    original_array[::2, 1::2] = 1\n",
    "    \n",
    "    return original_array\n",
    "\n",
    "def main():\n",
    "   \n",
    "    original_array = np.zeros((8, 8), dtype=int)\n",
    "    \n",
    "    print(\"Original array:\")\n",
    "    print(original_array)\n",
    "    \n",
    "    checkerboard_array = checkerboard(original_array)\n",
    "    \n",
    "    print(\"\\nCheckerboard pattern:\")\n",
    "    print(checkerboard_array)\n",
    "    \n",
    "if __name__ == \"__main__\":\n",
    "    main()"
   ]
  },
  {
   "cell_type": "markdown",
   "metadata": {},
   "source": [
    "8. Write a Python program to convert a list and tuple into arrays."
   ]
  },
  {
   "cell_type": "code",
   "execution_count": 9,
   "metadata": {},
   "outputs": [
    {
     "name": "stdout",
     "output_type": "stream",
     "text": [
      "List to array:\n",
      "[1 2 3 4 5 6 7 8]\n",
      "\n",
      "Tuple to array:\n",
      "[[8 4 6]\n",
      " [1 2 3]]\n"
     ]
    }
   ],
   "source": [
    "def convert_to_array(data):\n",
    "    \"\"\"\n",
    "    Description:\n",
    "        Converts a list or tuple into a NumPy array.\n",
    "    \n",
    "    Parameter:\n",
    "        data (list or tuple): The input data to convert into a NumPy array.\n",
    "        \n",
    "    Return:\n",
    "        numpy.ndarray: The converted NumPy array.\n",
    "    \"\"\"\n",
    "    return np.array(data)\n",
    "\n",
    "def main():\n",
    "    \n",
    "    sample_list = [1, 2, 3, 4, 5, 6, 7, 8]\n",
    "    sample_tuple = ((8, 4, 6), (1, 2, 3))\n",
    "  \n",
    "    list_array = convert_to_array(sample_list)\n",
    "    print(\"List to array:\")\n",
    "    print(list_array)\n",
    "\n",
    "    tuple_array = convert_to_array(sample_tuple)\n",
    "    print(\"\\nTuple to array:\")\n",
    "    print(tuple_array)\n",
    "\n",
    "if __name__ == \"__main__\":\n",
    "    main()\n"
   ]
  },
  {
   "cell_type": "markdown",
   "metadata": {},
   "source": [
    "9. Write a Python program to append values to the end of an array."
   ]
  },
  {
   "cell_type": "code",
   "execution_count": 10,
   "metadata": {},
   "outputs": [
    {
     "name": "stdout",
     "output_type": "stream",
     "text": [
      "[10 20 30 40 50 60 70 80 90]\n"
     ]
    }
   ],
   "source": [
    "def append_array(sample_array):\n",
    "    \"\"\"\n",
    "    Description:\n",
    "        Appends values ranging from 40 to 90 (with a step of 10) to the end of the given array.\n",
    "\n",
    "    Parameter:\n",
    "        sample_array (numpy.ndarray): The original array to which new values are appended.\n",
    "\n",
    "    Return:\n",
    "        numpy.ndarray: The updated array with appended values.\n",
    "    \"\"\"\n",
    "    \n",
    "    new_array = np.append(sample_array, np.arange(40, 100, 10))\n",
    "    \n",
    "    return new_array\n",
    "\n",
    "def main():\n",
    "    \n",
    "    sample_array = np.array([10, 20, 30])\n",
    "    \n",
    "    print(append_array(sample_array))\n",
    "\n",
    "if __name__ == \"__main__\":\n",
    "    main()\n"
   ]
  },
  {
   "cell_type": "markdown",
   "metadata": {},
   "source": [
    "10. Write a Python program to find the real and imaginary parts of an array of complex\n",
    "numbers."
   ]
  },
  {
   "cell_type": "code",
   "execution_count": 11,
   "metadata": {},
   "outputs": [
    {
     "name": "stdout",
     "output_type": "stream",
     "text": [
      "Original array:\n",
      "[1.        +0.j         0.70710678+0.70710678j]\n",
      "\n",
      "Real part of the array:\n",
      "[1.         0.70710678]\n",
      "\n",
      "Imaginary part of the array:\n",
      "[0.         0.70710678]\n"
     ]
    }
   ],
   "source": [
    "def real_imaginary(original_array):\n",
    "    \"\"\"\n",
    "    Description:\n",
    "        Extracts the real and imaginary parts from a given array of complex numbers.\n",
    "\n",
    "    Parameter:\n",
    "        original_array (numpy.ndarray): An array of complex numbers.\n",
    "\n",
    "    Return:\n",
    "        tuple: Two numpy arrays containing the real and imaginary parts of the original array.\n",
    "    \"\"\"\n",
    "    \n",
    "    real_part = np.real(original_array)\n",
    "    \n",
    "    imaginary_part = np.imag(original_array)\n",
    "    \n",
    "    return real_part , imaginary_part\n",
    "    \n",
    "def main():\n",
    "    \n",
    "    original_array = np.array([1 + 0j, 0.70710678 + 0.70710678j])\n",
    "    \n",
    "    print(\"Original array:\")\n",
    "    print(original_array)\n",
    "    \n",
    "    real_part , imaginary_part = real_imaginary(original_array)\n",
    "    print(\"\\nReal part of the array:\")\n",
    "    print(real_part)\n",
    "    \n",
    "    print(\"\\nImaginary part of the array:\")\n",
    "    print(imaginary_part)\n",
    "\n",
    "if __name__ == \"__main__\":\n",
    "    main()\n"
   ]
  },
  {
   "cell_type": "markdown",
   "metadata": {},
   "source": [
    "11. Write a Python program to find the number of elements of an array, length of one\n",
    "array element in bytes and total bytes consumed by the elements."
   ]
  },
  {
   "cell_type": "code",
   "execution_count": 12,
   "metadata": {},
   "outputs": [
    {
     "name": "stdout",
     "output_type": "stream",
     "text": [
      "Size of the array: 3\n",
      "Length of one array element in bytes: 8\n",
      "Total bytes consumed by the elements of the array: 24\n"
     ]
    }
   ],
   "source": [
    "def array_info(sample_array):\n",
    "    \"\"\"\n",
    "    Description:\n",
    "        Calculates the size of the array, the length of one array element in bytes, and the total bytes consumed by the array elements.\n",
    "\n",
    "    Parameter:\n",
    "        sample_array (numpy.ndarray): An array of elements.\n",
    "\n",
    "    Return:\n",
    "        tuple: Contains the size of the array, the length of one array element in bytes, and the total bytes consumed by the elements.\n",
    "    \"\"\"\n",
    "    array_size = sample_array.size\n",
    "\n",
    "    element_size = sample_array.itemsize\n",
    "\n",
    "    total_bytes = sample_array.nbytes\n",
    "    \n",
    "    return array_size , element_size,total_bytes\n",
    "    \n",
    "def main():\n",
    "    \n",
    "    sample_array = np.array([1, 2, 3])\n",
    "    \n",
    "    array_size , element_size,total_bytes = array_info(sample_array)\n",
    "    \n",
    "    print(\"Size of the array:\", array_size)\n",
    "    print(\"Length of one array element in bytes:\", element_size)\n",
    "    print(\"Total bytes consumed by the elements of the array:\", total_bytes)\n",
    "\n",
    "if __name__ == \"__main__\":\n",
    "    main()\n"
   ]
  },
  {
   "cell_type": "markdown",
   "metadata": {},
   "source": [
    "12. Write a Python program to find common values between two arrays."
   ]
  },
  {
   "cell_type": "code",
   "execution_count": 13,
   "metadata": {},
   "outputs": [
    {
     "name": "stdout",
     "output_type": "stream",
     "text": [
      "Array1: [ 0 10 20 40 60]\n",
      "Array2: [10 30 40]\n",
      "\n",
      "Common values between two arrays:\n",
      "[10 40]\n"
     ]
    }
   ],
   "source": [
    "def common_values(array1, array2):\n",
    "    \"\"\"\n",
    "    Description:\n",
    "        Finds the common values between two numpy arrays.\n",
    "\n",
    "    Parameters:\n",
    "        array1 (numpy.ndarray): The first input array.\n",
    "        array2 (numpy.ndarray): The second input array.\n",
    "\n",
    "    Returns:\n",
    "        numpy.ndarray: An array containing the common values between the two input arrays.\n",
    "    \"\"\"\n",
    "    common_values = np.intersect1d(array1, array2)\n",
    "    return common_values\n",
    "\n",
    "def main():\n",
    "    \n",
    "    array1 = np.array([0, 10, 20, 40, 60])\n",
    "    array2 = np.array([10, 30, 40])\n",
    "    \n",
    "    print(\"Array1:\", array1)\n",
    "    print(\"Array2:\", array2)\n",
    "    \n",
    "    common_values_array = common_values(array1, array2)\n",
    "    print(\"\\nCommon values between two arrays:\")\n",
    "    print(common_values_array)\n",
    "\n",
    "if __name__ == \"__main__\":\n",
    "    main()\n"
   ]
  },
  {
   "cell_type": "markdown",
   "metadata": {},
   "source": [
    "13. Write a Python program to find the set difference of two arrays. The set difference\n",
    "will return the sorted, unique values in array1 that are not in array2."
   ]
  },
  {
   "cell_type": "code",
   "execution_count": 14,
   "metadata": {},
   "outputs": [
    {
     "name": "stdout",
     "output_type": "stream",
     "text": [
      "Array1: [ 0 10 20 40 60 80]\n",
      "Array2: [10 30 40 50 70 90]\n",
      "\n",
      "Set difference between two arrays:\n",
      "[ 0 20 60 80]\n"
     ]
    }
   ],
   "source": [
    "def set_difference(array1, array2):\n",
    "    \"\"\"\n",
    "    Description:\n",
    "        Finds the set difference of two numpy arrays. Returns sorted, unique values in array1 that are not in array2.\n",
    "\n",
    "    Parameters:\n",
    "        array1 (numpy.ndarray): The first input array.\n",
    "        array2 (numpy.ndarray): The second input array.\n",
    "\n",
    "    Returns:\n",
    "        numpy.ndarray: An array containing the set difference of the two input arrays.\n",
    "    \"\"\"\n",
    "    \n",
    "    difference = np.setdiff1d(array1, array2)\n",
    "    return difference\n",
    "\n",
    "def main():\n",
    "   \n",
    "    array1 = np.array([0, 10, 20, 40, 60, 80])\n",
    "    array2 = np.array([10, 30, 40, 50, 70, 90])\n",
    "    \n",
    "    print(\"Array1:\", array1)\n",
    "    print(\"Array2:\", array2)\n",
    "    \n",
    "    difference = set_difference(array1, array2)\n",
    "    print(\"\\nSet difference between two arrays:\")\n",
    "    print(difference)\n",
    "\n",
    "if __name__ == \"__main__\":\n",
    "    main()\n"
   ]
  },
  {
   "cell_type": "markdown",
   "metadata": {},
   "source": [
    "14. Write a Python program to find the set exclusive-or of two arrays. Set exclusive-or\n",
    "will return the sorted, unique values that are in only one (not both) of the input arrays."
   ]
  },
  {
   "cell_type": "code",
   "execution_count": 15,
   "metadata": {},
   "outputs": [
    {
     "name": "stdout",
     "output_type": "stream",
     "text": [
      "Array1: [ 0 10 20 40 60 80]\n",
      "Array2: [10 30 40 50 70]\n",
      "\n",
      "Unique values that are in only one (not both) of the input arrays:\n",
      "[ 0 20 30 50 60 70 80]\n"
     ]
    }
   ],
   "source": [
    "def find_exclusive_or(array1, array2):\n",
    "    \"\"\"\n",
    "    Description:\n",
    "        Finds the set exclusive-or of two numpy arrays. Returns sorted, unique values that are in only one (not both) of the input arrays.\n",
    "\n",
    "    Parameters:\n",
    "        array1 (numpy.ndarray): The first input array.\n",
    "        array2 (numpy.ndarray): The second input array.\n",
    "\n",
    "    Returns:\n",
    "        numpy.ndarray: An array containing the set exclusive-or of the two input arrays.\n",
    "    \"\"\"\n",
    "    exclusive_or = np.setxor1d(array1, array2)\n",
    "    return exclusive_or\n",
    "\n",
    "def main():\n",
    "   \n",
    "    array1 = np.array([0, 10, 20, 40, 60, 80])\n",
    "    array2 = np.array([10, 30, 40, 50, 70])\n",
    "    \n",
    "    print(\"Array1:\", array1)\n",
    "    print(\"Array2:\", array2)\n",
    "    \n",
    "    exclusive_or = find_exclusive_or(array1, array2)\n",
    "    print(\"\\nUnique values that are in only one (not both) of the input arrays:\")\n",
    "    print(exclusive_or)\n",
    "\n",
    "if __name__ == \"__main__\":\n",
    "    main()\n"
   ]
  },
  {
   "cell_type": "markdown",
   "metadata": {},
   "source": [
    "15. Write a Python program compare two arrays using numpy."
   ]
  },
  {
   "cell_type": "code",
   "execution_count": 16,
   "metadata": {},
   "outputs": [
    {
     "name": "stdout",
     "output_type": "stream",
     "text": [
      "Array a: [1 2]\n",
      "Array b: [4 5]\n",
      "\n",
      "a > b\n",
      "[False False]\n",
      "\n",
      "a >= b\n",
      "[False False]\n",
      "\n",
      "a < b\n",
      "[ True  True]\n",
      "\n",
      "a <= b\n",
      "[ True  True]\n"
     ]
    }
   ],
   "source": [
    "def compare_arrays(array1, array2):\n",
    "    \"\"\"\n",
    "    Description:\n",
    "        Compares two numpy arrays element-wise using various comparison operators.\n",
    "\n",
    "    Parameters:\n",
    "        array1 (numpy.ndarray): The first input array.\n",
    "        array2 (numpy.ndarray): The second input array.\n",
    "\n",
    "    Returns:\n",
    "        tuple: Contains the results of element-wise comparisons (>, >=, <, <=).\n",
    "    \"\"\"\n",
    "    greater_than = array1 > array2\n",
    "    greater_than_equal = array1 >= array2\n",
    "    less_than = array1 < array2\n",
    "    less_than_equal = array1 <= array2\n",
    "    \n",
    "    return greater_than, greater_than_equal, less_than, less_than_equal\n",
    "\n",
    "def main():\n",
    "   \n",
    "    array_a = np.array([1, 2])\n",
    "    array_b = np.array([4, 5])\n",
    "  \n",
    "    print(\"Array a:\", array_a)\n",
    "    print(\"Array b:\", array_b)\n",
    " \n",
    "    greater_than, greater_than_equal, less_than, less_than_equal = compare_arrays(array_a, array_b)\n",
    "    \n",
    "    print(\"\\na > b\")\n",
    "    print(greater_than)\n",
    "    \n",
    "    print(\"\\na >= b\")\n",
    "    print(greater_than_equal)\n",
    "    \n",
    "    print(\"\\na < b\")\n",
    "    print(less_than)\n",
    "    \n",
    "    print(\"\\na <= b\")\n",
    "    print(less_than_equal)\n",
    "\n",
    "if __name__ == \"__main__\":\n",
    "    main()\n"
   ]
  },
  {
   "cell_type": "markdown",
   "metadata": {},
   "source": [
    "16. Write a Python program to save a NumPy array to a text file."
   ]
  },
  {
   "cell_type": "code",
   "execution_count": 17,
   "metadata": {},
   "outputs": [
    {
     "name": "stdout",
     "output_type": "stream",
     "text": [
      "Array has been saved to 'data.txt'\n"
     ]
    }
   ],
   "source": [
    "def array_to_file(array, file):\n",
    "    \"\"\"\n",
    "    Description:\n",
    "        Saves a NumPy array to a text file.\n",
    "\n",
    "    Parameters:\n",
    "        array (numpy.ndarray): The array to be saved.\n",
    "        filename (str): The name of the text file to which the array will be saved.\n",
    "        \n",
    "    Return:\n",
    "        None\n",
    "    \"\"\"\n",
    "    \n",
    "    np.savetxt(file, array) \n",
    "\n",
    "def main():\n",
    "    \n",
    "    array = np.array([1, 2, 3, 4, 5, 6, 7, 8, 9, 10])\n",
    "    \n",
    "    file = 'data.txt'\n",
    "    \n",
    "    array_to_file(array, file)\n",
    "    \n",
    "    print(f\"Array has been saved to '{file}'\")\n",
    "\n",
    "if __name__ == \"__main__\":\n",
    "    main()\n"
   ]
  },
  {
   "cell_type": "markdown",
   "metadata": {},
   "source": [
    "17. Write a Python program to create a contiguous flattened array.\n"
   ]
  },
  {
   "cell_type": "code",
   "execution_count": 18,
   "metadata": {},
   "outputs": [
    {
     "name": "stdout",
     "output_type": "stream",
     "text": [
      "Original array:\n",
      "[[10 20 30]\n",
      " [20 40 50]]\n",
      "\n",
      "New flattened array:\n",
      "[10 20 30 20 40 50]\n"
     ]
    }
   ],
   "source": [
    "def create_flattened_array(array):\n",
    "    \"\"\"\n",
    "    Description:\n",
    "        Flattens a multi-dimensional NumPy array into a contiguous one-dimensional array.\n",
    "\n",
    "    Parameters:\n",
    "        array (numpy.ndarray): The multi-dimensional array to be flattened.\n",
    "\n",
    "    Returns:\n",
    "        numpy.ndarray: A one-dimensional, contiguous flattened array.\n",
    "    \"\"\"\n",
    "\n",
    "    flattened_array = array.ravel()\n",
    "    return flattened_array\n",
    "\n",
    "def main():\n",
    "    \n",
    "    original_array = np.array([[10, 20, 30], [20, 40, 50]])\n",
    " \n",
    "    print(\"Original array:\")\n",
    "    print(original_array)\n",
    "\n",
    "    flattened_array = create_flattened_array(original_array)\n",
    "\n",
    "    print(\"\\nNew flattened array:\")\n",
    "    print(flattened_array)\n",
    "\n",
    "if __name__ == \"__main__\":\n",
    "    main()\n"
   ]
  },
  {
   "cell_type": "markdown",
   "metadata": {},
   "source": [
    "18. Write a Python program to change the data type of an array."
   ]
  },
  {
   "cell_type": "code",
   "execution_count": 19,
   "metadata": {},
   "outputs": [
    {
     "name": "stdout",
     "output_type": "stream",
     "text": [
      "Original array:\n",
      "[[ 2  4  6]\n",
      " [ 6  8 10]]\n",
      "Data type of the array x is: int64\n",
      "\n",
      "New Type: float64\n",
      "[[ 2.  4.  6.]\n",
      " [ 6.  8. 10.]]\n"
     ]
    }
   ],
   "source": [
    "import numpy as np\n",
    "\n",
    "def change_dtype(array, new_dtype):\n",
    "    \"\"\"\n",
    "    Description:\n",
    "        Changes the data type of a NumPy array to the specified new data type.\n",
    "\n",
    "    Parameters:\n",
    "        array (numpy.ndarray): The array whose data type is to be changed.\n",
    "        new_dtype (type): The new data type to which the array should be converted.\n",
    "\n",
    "    Returns:\n",
    "        numpy.ndarray: A new array with the specified data type.\n",
    "    \"\"\"\n",
    "   \n",
    "    new_array = array.astype(new_dtype)\n",
    "    return new_array\n",
    "\n",
    "def main():\n",
    " \n",
    "    array = np.array([[2, 4, 6], [6, 8, 10]])\n",
    "\n",
    "    print(\"Original array:\")\n",
    "    print(array)\n",
    "    print(\"Data type of the array x is:\", array.dtype)\n",
    "    \n",
    "    new_dtype = np.float64\n",
    "\n",
    "    new_array = change_dtype(array,new_dtype )\n",
    "  \n",
    "    print(\"\\nNew Type:\", new_array.dtype)\n",
    "    print(new_array)\n",
    "\n",
    "if __name__ == \"__main__\":\n",
    "    main()\n"
   ]
  },
  {
   "cell_type": "markdown",
   "metadata": {},
   "source": [
    "19. Write a Python program to create a 3-D array with ones on a diagonal and zeros\n",
    "elsewhere."
   ]
  },
  {
   "cell_type": "code",
   "execution_count": 20,
   "metadata": {},
   "outputs": [
    {
     "name": "stdout",
     "output_type": "stream",
     "text": [
      "[[[1. 0. 0.]\n",
      "  [0. 1. 0.]\n",
      "  [0. 0. 1.]]]\n"
     ]
    }
   ],
   "source": [
    "def diagonal_array():\n",
    "    \"\"\"\n",
    "    Description:\n",
    "        Creates a 3-D array with ones on the diagonal and zeros elsewhere.\n",
    "        The 2-D identity matrix is first created, and then it is expanded to\n",
    "        a 3-D array by adding an extra dimension.\n",
    "        \n",
    "    Parameters:\n",
    "        None\n",
    "\n",
    "    Returns:\n",
    "        numpy.ndarray: A 3-D array where each 2-D slice is an identity matrix.\n",
    "    \"\"\"\n",
    "    \n",
    "    array1 = np.eye(3)\n",
    "    \n",
    "    new_array = np.array(array1,ndmin=3)\n",
    "    \n",
    "    return new_array\n",
    "    \n",
    "def main():\n",
    "    \n",
    "    print(diagonal_array())\n",
    "    \n",
    "if __name__ == \"__main__\":\n",
    "    main()"
   ]
  },
  {
   "cell_type": "markdown",
   "metadata": {},
   "source": [
    "20. Write a Python program to create an array which looks like below array."
   ]
  },
  {
   "cell_type": "code",
   "execution_count": 21,
   "metadata": {},
   "outputs": [
    {
     "name": "stdout",
     "output_type": "stream",
     "text": [
      "[[0. 0. 0.]\n",
      " [1. 0. 0.]\n",
      " [1. 1. 0.]\n",
      " [1. 1. 1.]]\n"
     ]
    }
   ],
   "source": [
    "def create_array():\n",
    "    \"\"\"\n",
    "    Description:\n",
    "        Creates a specific 2D array with incremental values as specified.\n",
    "        \n",
    "    Parameters:\n",
    "        None\n",
    "\n",
    "    Return:\n",
    "        numpy.ndarray: A 2D array matching the expected output format.\n",
    "    \"\"\"\n",
    "    array = np.zeros((4, 3))\n",
    "    array[1, 0] = 1\n",
    "    array[2, 0:2] = 1\n",
    "    array[3, :] = 1\n",
    "\n",
    "    return array\n",
    "\n",
    "def main():\n",
    "    \n",
    "    print(create_array())\n",
    "\n",
    "if __name__ == \"__main__\":\n",
    "    main()\n"
   ]
  },
  {
   "cell_type": "markdown",
   "metadata": {},
   "source": [
    "21. Write a Python program to concatenate two 2-dimensional arrays."
   ]
  },
  {
   "cell_type": "code",
   "execution_count": 22,
   "metadata": {},
   "outputs": [
    {
     "name": "stdout",
     "output_type": "stream",
     "text": [
      "[[ 0  1  3  0  2  4]\n",
      " [ 5  7  9  6  8 10]]\n"
     ]
    }
   ],
   "source": [
    "def concat_array(sample_arrays):\n",
    "    \"\"\"\n",
    "    Description:\n",
    "        Concatenates two 2-dimensional arrays along the second axis (columns).\n",
    "\n",
    "    Parameter:\n",
    "        sample_arrays (list): A list containing two 3D numpy arrays.\n",
    "\n",
    "    Return:\n",
    "        numpy.ndarray: A 2D array resulting from the concatenation of arrays in the list.\n",
    "    \"\"\"\n",
    "    new_array = np.concatenate(sample_arrays,1)\n",
    "    \n",
    "    return new_array\n",
    "\n",
    "def main():\n",
    "    sample_arrays = np.array([[[0, 1, 3], [5, 7, 9]], [[0, 2, 4], [6, 8, 10]]])\n",
    "\n",
    "    print(concat_array(sample_arrays))\n",
    "    \n",
    "if __name__ == \"__main__\":\n",
    "    main()"
   ]
  },
  {
   "cell_type": "markdown",
   "metadata": {},
   "source": [
    "22. Write a Python program to make an array immutable (read-only)."
   ]
  },
  {
   "cell_type": "code",
   "execution_count": 23,
   "metadata": {},
   "outputs": [
    {
     "name": "stdout",
     "output_type": "stream",
     "text": [
      "Test if the array is read-only:\n",
      "assignment destination is read-only\n"
     ]
    }
   ],
   "source": [
    "import numpy as np\n",
    "\n",
    "def immutable_array(sample_arr):\n",
    "    \"\"\"\n",
    "    Description:\n",
    "        Makes the given NumPy array read-only by setting its 'writeable' flag to False.\n",
    "\n",
    "    Parameter:\n",
    "        arr (numpy.ndarray): The NumPy array to be made read-only.\n",
    "\n",
    "    Return:\n",
    "        numpy.ndarray: The read-only version of the input array.\n",
    "    \"\"\"\n",
    "    sample_arr.flags.writeable = False\n",
    "    return sample_arr\n",
    "\n",
    "def main():\n",
    "   \n",
    "    sample_arr = np.array([1, 2, 3, 4, 5])\n",
    "\n",
    "    sample_arr= immutable_array(sample_arr)\n",
    "    \n",
    "    print(\"Test if the array is read-only:\")\n",
    "    \n",
    "    try:\n",
    "        sample_arr[0] = 1\n",
    "    except ValueError as e:\n",
    "        print(e)\n",
    "\n",
    "if __name__ == \"__main__\":\n",
    "    main()\n"
   ]
  },
  {
   "cell_type": "markdown",
   "metadata": {},
   "source": [
    "23. Write a Python program to create an array of (3, 4) shape, multiply every element\n",
    "value by 3 and display the new array."
   ]
  },
  {
   "cell_type": "code",
   "execution_count": 24,
   "metadata": {},
   "outputs": [
    {
     "name": "stdout",
     "output_type": "stream",
     "text": [
      "Original Array : \n",
      "[[ 0  1  2  3]\n",
      " [ 4  5  6  7]\n",
      " [ 8  9 10 11]]\n",
      "New Array : \n",
      "[[ 0  3  6  9]\n",
      " [12 15 18 21]\n",
      " [24 27 30 33]]\n"
     ]
    }
   ],
   "source": [
    "def main():\n",
    "    original_array = np.arange(12).reshape(3,4)\n",
    "    new_array = original_array*3\n",
    "    \n",
    "    print(f\"Original Array : \\n{original_array}\")\n",
    "    print(f\"New Array : \\n{new_array}\")\n",
    "    \n",
    "if __name__ == \"__main__\":\n",
    "    main()"
   ]
  },
  {
   "cell_type": "markdown",
   "metadata": {},
   "source": [
    "24. Write a Python program to convert a NumPy array into Python list structure."
   ]
  },
  {
   "cell_type": "code",
   "execution_count": 25,
   "metadata": {},
   "outputs": [
    {
     "name": "stdout",
     "output_type": "stream",
     "text": [
      "[[0 1]\n",
      " [2 3]\n",
      " [4 5]]\n",
      "Array to list : \n",
      "[[0, 1], [2, 3], [4, 5]]\n"
     ]
    }
   ],
   "source": [
    "def main():\n",
    "    \n",
    "    original_array = np.arange(6).reshape(3,2)\n",
    "    print(original_array)\n",
    "\n",
    "    list1 = original_array.tolist()\n",
    "    print(f\"Array to list : \\n{list1}\")\n",
    "    \n",
    "if __name__ == \"__main__\":\n",
    "    main()"
   ]
  },
  {
   "cell_type": "markdown",
   "metadata": {},
   "source": [
    "25. Write a Python program to convert a NumPy array into Python list structure."
   ]
  },
  {
   "cell_type": "code",
   "execution_count": 26,
   "metadata": {},
   "outputs": [
    {
     "name": "stdout",
     "output_type": "stream",
     "text": [
      "[0.45954478 0.71354159 0.60045126 0.88888426 0.77246023 0.89272094\n",
      " 0.96166856 0.38176308 0.29140298 0.35873691]\n",
      "\n",
      "Print array values with precision 3:\n",
      "[0.46  0.714 0.6   0.889 0.772 0.893 0.962 0.382 0.291 0.359]\n"
     ]
    }
   ],
   "source": [
    "def main():\n",
    "    \n",
    "    original_array = np.random.rand(10)  \n",
    "    print(original_array)\n",
    "\n",
    "    np.set_printoptions(3)\n",
    "    \n",
    "    print(\"\\nPrint array values with precision 3:\")\n",
    "    print(original_array)\n",
    "\n",
    "if __name__ == \"__main__\":\n",
    "    main()\n"
   ]
  },
  {
   "cell_type": "markdown",
   "metadata": {},
   "source": [
    "26. Write a Python program to suppresses the use of scientific notation for small\n",
    "numbers in numpy array."
   ]
  },
  {
   "cell_type": "code",
   "execution_count": 27,
   "metadata": {},
   "outputs": [
    {
     "name": "stdout",
     "output_type": "stream",
     "text": [
      "[1.60e-10 1.60e+00 1.20e+03 2.35e-01]\n",
      "suppress array : \n",
      "[   0.       1.6   1200.       0.235]\n"
     ]
    }
   ],
   "source": [
    "def main():\n",
    "    original_array =np.array([1.60000000e-10,1.60000000e+00,1.20000000e+03,2.35000000e-01])\n",
    "    print(original_array)\n",
    "    \n",
    "    np.set_printoptions(3,suppress=True)\n",
    "    \n",
    "    print(f\"suppress array : \\n{original_array}\")\n",
    "    \n",
    "if __name__ == \"__main__\":\n",
    "    main()"
   ]
  },
  {
   "cell_type": "markdown",
   "metadata": {},
   "source": [
    "27.Write a Python program to how to add an extra column to an numpy array."
   ]
  },
  {
   "cell_type": "code",
   "execution_count": 28,
   "metadata": {},
   "outputs": [
    {
     "name": "stdout",
     "output_type": "stream",
     "text": [
      "[[10 20 30]\n",
      " [40 50 60]]\n",
      "Array with new column added:\n",
      "[[ 10  20  30 100]\n",
      " [ 40  50  60 200]]\n"
     ]
    }
   ],
   "source": [
    "def add_column(arr, new_col):\n",
    "    \"\"\"\n",
    "    Description:\n",
    "        Adds a new column to the given NumPy array using np.column_stack().\n",
    "\n",
    "    Parameters:\n",
    "        arr (numpy.ndarray): The original 2D array.\n",
    "        new_col (numpy.ndarray): The new column to be added.\n",
    "\n",
    "    Return:\n",
    "        numpy.ndarray: The array with the new column added.\n",
    "    \"\"\"\n",
    "    return np.column_stack((arr, new_col))\n",
    "\n",
    "def main():\n",
    "  \n",
    "    original_array = np.array([[10, 20, 30], [40, 50, 60]])\n",
    "    \n",
    "    print(original_array)\n",
    "    \n",
    "    new_column = np.array([100, 200])\n",
    "   \n",
    "    result_array = add_column(original_array, new_column)\n",
    " \n",
    "    print(\"Array with new column added:\")\n",
    "    print(result_array)\n",
    "\n",
    "if __name__ == \"__main__\":\n",
    "    main()\n"
   ]
  },
  {
   "cell_type": "markdown",
   "metadata": {},
   "source": [
    "28. Write a Python program to remove specific elements in a numpy array."
   ]
  },
  {
   "cell_type": "code",
   "execution_count": 29,
   "metadata": {},
   "outputs": [
    {
     "name": "stdout",
     "output_type": "stream",
     "text": [
      "Original array:\n",
      "[ 10  20  30  40  50  60  70  80  90 100]\n",
      "\n",
      "Delete first, fourth and fifth elements:\n",
      "[ 20  30  60  70  80  90 100]\n"
     ]
    }
   ],
   "source": [
    "def main():\n",
    "    \n",
    "    original_array = np.array([10, 20, 30, 40, 50, 60, 70, 80, 90, 100])\n",
    "    print(\"Original array:\")\n",
    "    print(original_array)\n",
    "    new_array = np.delete(original_array,[0,3,4])\n",
    "    \n",
    "   \n",
    "    print(\"\\nDelete first, fourth and fifth elements:\")\n",
    "    print(new_array)\n",
    "\n",
    "if __name__ == \"__main__\":\n",
    "    main()"
   ]
  }
 ],
 "metadata": {
  "kernelspec": {
   "display_name": "Python 3",
   "language": "python",
   "name": "python3"
  },
  "language_info": {
   "codemirror_mode": {
    "name": "ipython",
    "version": 3
   },
   "file_extension": ".py",
   "mimetype": "text/x-python",
   "name": "python",
   "nbconvert_exporter": "python",
   "pygments_lexer": "ipython3",
   "version": "3.12.5"
  }
 },
 "nbformat": 4,
 "nbformat_minor": 2
}
